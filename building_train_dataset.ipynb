{
 "cells": [
  {
   "cell_type": "code",
   "execution_count": 66,
   "metadata": {},
   "outputs": [],
   "source": [
    "import numpy as np\n",
    "import matplotlib.pyplot as plt\n",
    "from scipy.datasets import electrocardiogram\n",
    "from scipy.signal import find_peaks, argrelmin\n",
    "import pandas as pd\n",
    "from collections import Counter\n",
    "import os\n",
    "\n",
    "\n",
    "from scipy import signal\n",
    "from sklearn import linear_model"
   ]
  },
  {
   "cell_type": "code",
   "execution_count": 67,
   "metadata": {},
   "outputs": [],
   "source": [
    "def get_stats(check_list):\n",
    "    standard = float(np.std(check_list))\n",
    "    mean = float(np.mean(check_list))\n",
    "    return [min(check_list),mean-standard-standard,mean-standard,mean,mean + standard,mean +standard+standard ,max(check_list) ]\n"
   ]
  },
  {
   "cell_type": "code",
   "execution_count": 68,
   "metadata": {},
   "outputs": [],
   "source": [
    "path = \"/Users/cslinxs/Desktop/all_weeks/aurorabp-sample-data/sample/measurements_auscultatory/a002/a002.initial.Static_seated_challenge_1.tsv\"\n",
    "path =\"/Users/cslinxs/Desktop/all_weeks/aurorabp-sample-data/sample/measurements_auscultatory/a004/a004.initial.Exercise_challenge_start_1.tsv\"\n"
   ]
  },
  {
   "cell_type": "code",
   "execution_count": 69,
   "metadata": {},
   "outputs": [],
   "source": [
    "\n",
    "def get_50_avg_corrdinaes(path):\n",
    "    \n",
    "    df = pd.read_csv(path,sep = '\\t')   \n",
    "    pos_pressure = df[\"pressure\"]\n",
    "    neglist = [ -x for x in pos_pressure]\n",
    "    min_peaks, _ = find_peaks(neglist, prominence=10 )\n",
    "    max_peak, _ = find_peaks(pos_pressure, prominence=10)\n",
    "\n",
    "    #this removes all elemerns with in 40 of the mini\n",
    "    unnecessary_points_overlapped = []\n",
    "    for mini in list(min_peaks):\n",
    "        if len(set(range(mini-40,40+mini)).intersection(set(max_peak)))>0:\n",
    "            unnecessary_points_overlapped.append(int(mini))\n",
    "\n",
    "    combo_list =  list(min_peaks)+ (unnecessary_points_overlapped)\n",
    "    combo_list = [int(i) for i in combo_list]\n",
    "\n",
    "    # juts deleted stuff from both lists if its in tht 40 range \n",
    "    # THIS IS THE MOST IMPORTANT \n",
    "    most_accurate_mins = [k for k,v in Counter(combo_list).items() if v==1]\n",
    "\n",
    "    diffrences_new_min = np.diff(most_accurate_mins)\n",
    "    mean_new_min = float(diffrences_new_min.mean())\n",
    "\n",
    "    # overlapping every beat \n",
    "    all_overlaps = [[] for i in range(int(max(diffrences_new_min)))]\n",
    "\n",
    "\n",
    "    for i in range(len(most_accurate_mins)-1):\n",
    "        if (int(most_accurate_mins[i+1]) -int(most_accurate_mins[i]))< get_stats(diffrences_new_min)[4] :\n",
    "            y_range  = list(range(int(most_accurate_mins[i]),int(most_accurate_mins[i+1])))\n",
    "            y_of_shift = [int(y - min(pos_pressure[y_range])) for y in pos_pressure[y_range]]\n",
    "\n",
    "            x_range = list(range(int(most_accurate_mins[i]),int(most_accurate_mins[i+1])))\n",
    "            x_of_shift = [int(x - x_range[0]) for x in x_range]\n",
    "\n",
    "            start_end_line = np.linspace(y_of_shift[0], y_of_shift[-1], len(y_of_shift), endpoint=True)\n",
    "            y_rotated = [xi - yi for xi, yi in zip(y_of_shift, start_end_line)]\n",
    "\n",
    "            for x_indi in range(len(x_range)):\n",
    "                all_overlaps[x_indi].append(int(y_rotated[x_indi]-start_end_line[x_indi]))\n",
    "            \n",
    "            \n",
    "            \n",
    "\n",
    "\n",
    "\n",
    "    #to get data for the overall mean \n",
    "    all_overlaps_means = []\n",
    "    # mean for each row\n",
    "    for lists in all_overlaps:\n",
    "        all_overlaps_means.append(np.mean(lists))\n",
    "\n",
    "    all_overlaps_means = [x for x in all_overlaps_means if str(x) != 'nan']\n",
    "\n",
    "\n",
    "\n",
    "\n",
    "    #THIS IS THE list of x's\n",
    "    data_points_average_overlapped = list(zip(all_overlaps_means, list(range(len(all_overlaps_means)))))\n",
    "    \n",
    "\n",
    "    #here is samppleing 50 pints\n",
    "    resampled_y = signal.resample(all_overlaps_means, 50)\n",
    "    resampled_x = signal.resample(list(range(len(all_overlaps_means))), 50)\n",
    "    new_50 = [[x,y] for x, y in zip(resampled_x, resampled_y)]\n",
    "\n",
    "\n",
    "    \n",
    "    return new_50"
   ]
  },
  {
   "cell_type": "code",
   "execution_count": 77,
   "metadata": {},
   "outputs": [
    {
     "name": "stdout",
     "output_type": "stream",
     "text": [
      "1.0\n",
      "LinearRegression()\n"
     ]
    },
    {
     "name": "stderr",
     "output_type": "stream",
     "text": [
      "/Users/cslinxs/Library/Python/3.9/lib/python/site-packages/numpy/_core/fromnumeric.py:3596: RuntimeWarning: Mean of empty slice.\n",
      "  return _methods._mean(a, axis=axis, dtype=dtype,\n",
      "/Users/cslinxs/Library/Python/3.9/lib/python/site-packages/numpy/_core/_methods.py:138: RuntimeWarning: invalid value encountered in scalar divide\n",
      "  ret = ret.dtype.type(ret / rcount)\n"
     ]
    }
   ],
   "source": [
    "full_path = \"/Users/cslinxs/Desktop/all_weeks/aurorabp-sample-data/sample/measurements_auscultatory/a000/\"\n",
    "\n",
    "# plt.rcParams[\"figure.figsize\"] = (10,16)\n",
    "# plt.figure(figsize=(100, 100)) \n",
    "\n",
    "for files in os.listdir(\"/Users/cslinxs/Desktop/all_weeks/aurorabp-sample-data/sample/measurements_auscultatory/a000\"):\n",
    "    #print(files)\n",
    "    \n",
    "    avg_50_points = get_50_avg_corrdinaes(full_path+files)\n",
    "    #print(avg_50_points)\n",
    "    reg = linear_model.LinearRegression()\n",
    "    y = np.dot(avg_50_points, np.array([1, 2])) + 3\n",
    "    reg.fit(avg_50_points, y )\n",
    "\n",
    "    print(reg.score(avg_50_points, y))\n",
    "    #LinearRegression()\n",
    "   \n",
    "    print(reg)\n",
    "\n",
    "    break\n"
   ]
  },
  {
   "cell_type": "code",
   "execution_count": 65,
   "metadata": {},
   "outputs": [],
   "source": [
    "def get_person_activity_data(person_id,activity):\n",
    "    auscultatory_data = \"/Users/cslinxs/Desktop/all_weeks/aurorabp-sample-data/sample/measurements_auscultatory.tsv\"\n",
    "    basic_mesures_data = pd.read_csv(auscultatory_data,sep = '\\t') \n",
    "    basic_mesures_data.fillna(\"\", inplace=True)\n",
    "\n",
    "    filler_to_person = basic_mesures_data[basic_mesures_data[\"pid\"].str.contains(person_id)]\n",
    "    \n",
    "    activity_file_path = f\"measurements_auscultatory/{person_id}/{activity}\"\n",
    "\n",
    "    filter_to_activity = (activity_file_path in list(filler_to_person['waveform_file_path']))\n",
    "    #return filler_to_person[(filler_to_person['waveform_file_path'].str.contains(activity_file_path))]\n",
    "    filter_to_activity = filler_to_person.loc[filler_to_person[\"waveform_file_path\"].str.contains(activity_file_path)]\n",
    "\n",
    "\n",
    "    return filter_to_activity[\"sbp\"]\n",
    "\n",
    "\n",
    "\n"
   ]
  },
  {
   "cell_type": "code",
   "execution_count": 54,
   "metadata": {},
   "outputs": [
    {
     "name": "stdout",
     "output_type": "stream",
     "text": [
      "1    113.0\n",
      "Name: sbp, dtype: float64\n",
      "4    111.0\n",
      "Name: sbp, dtype: float64\n",
      "7    113.5\n",
      "Name: sbp, dtype: float64\n",
      "8    115.0\n",
      "Name: sbp, dtype: float64\n",
      "5    108.0\n",
      "Name: sbp, dtype: float64\n",
      "0    110.0\n",
      "Name: sbp, dtype: float64\n",
      "3    121.0\n",
      "Name: sbp, dtype: float64\n",
      "6    121.0\n",
      "Name: sbp, dtype: float64\n",
      "11    112.0\n",
      "Name: sbp, dtype: float64\n",
      "9    132.0\n",
      "Name: sbp, dtype: float64\n",
      "12    116.5\n",
      "Name: sbp, dtype: float64\n",
      "10    131.5\n",
      "Name: sbp, dtype: float64\n",
      "13    108.0\n",
      "Name: sbp, dtype: float64\n"
     ]
    },
    {
     "name": "stderr",
     "output_type": "stream",
     "text": [
      "/var/folders/hp/g2knsnlj4y18ybnh9bjz7rkh0000gp/T/ipykernel_30753/1970612302.py:4: FutureWarning: Setting an item of incompatible dtype is deprecated and will raise an error in a future version of pandas. Value '' has dtype incompatible with float64, please explicitly cast to a compatible dtype first.\n",
      "  basic_mesures_data.fillna(\"\", inplace=True)\n",
      "/var/folders/hp/g2knsnlj4y18ybnh9bjz7rkh0000gp/T/ipykernel_30753/1970612302.py:4: FutureWarning: Setting an item of incompatible dtype is deprecated and will raise an error in a future version of pandas. Value '' has dtype incompatible with float64, please explicitly cast to a compatible dtype first.\n",
      "  basic_mesures_data.fillna(\"\", inplace=True)\n",
      "/var/folders/hp/g2knsnlj4y18ybnh9bjz7rkh0000gp/T/ipykernel_30753/1970612302.py:4: FutureWarning: Setting an item of incompatible dtype is deprecated and will raise an error in a future version of pandas. Value '' has dtype incompatible with float64, please explicitly cast to a compatible dtype first.\n",
      "  basic_mesures_data.fillna(\"\", inplace=True)\n",
      "/var/folders/hp/g2knsnlj4y18ybnh9bjz7rkh0000gp/T/ipykernel_30753/1970612302.py:4: FutureWarning: Setting an item of incompatible dtype is deprecated and will raise an error in a future version of pandas. Value '' has dtype incompatible with float64, please explicitly cast to a compatible dtype first.\n",
      "  basic_mesures_data.fillna(\"\", inplace=True)\n",
      "/var/folders/hp/g2knsnlj4y18ybnh9bjz7rkh0000gp/T/ipykernel_30753/1970612302.py:4: FutureWarning: Setting an item of incompatible dtype is deprecated and will raise an error in a future version of pandas. Value '' has dtype incompatible with float64, please explicitly cast to a compatible dtype first.\n",
      "  basic_mesures_data.fillna(\"\", inplace=True)\n",
      "/var/folders/hp/g2knsnlj4y18ybnh9bjz7rkh0000gp/T/ipykernel_30753/1970612302.py:4: FutureWarning: Setting an item of incompatible dtype is deprecated and will raise an error in a future version of pandas. Value '' has dtype incompatible with float64, please explicitly cast to a compatible dtype first.\n",
      "  basic_mesures_data.fillna(\"\", inplace=True)\n",
      "/var/folders/hp/g2knsnlj4y18ybnh9bjz7rkh0000gp/T/ipykernel_30753/1970612302.py:4: FutureWarning: Setting an item of incompatible dtype is deprecated and will raise an error in a future version of pandas. Value '' has dtype incompatible with float64, please explicitly cast to a compatible dtype first.\n",
      "  basic_mesures_data.fillna(\"\", inplace=True)\n",
      "/var/folders/hp/g2knsnlj4y18ybnh9bjz7rkh0000gp/T/ipykernel_30753/1970612302.py:4: FutureWarning: Setting an item of incompatible dtype is deprecated and will raise an error in a future version of pandas. Value '' has dtype incompatible with float64, please explicitly cast to a compatible dtype first.\n",
      "  basic_mesures_data.fillna(\"\", inplace=True)\n",
      "/var/folders/hp/g2knsnlj4y18ybnh9bjz7rkh0000gp/T/ipykernel_30753/1970612302.py:4: FutureWarning: Setting an item of incompatible dtype is deprecated and will raise an error in a future version of pandas. Value '' has dtype incompatible with float64, please explicitly cast to a compatible dtype first.\n",
      "  basic_mesures_data.fillna(\"\", inplace=True)\n",
      "/var/folders/hp/g2knsnlj4y18ybnh9bjz7rkh0000gp/T/ipykernel_30753/1970612302.py:4: FutureWarning: Setting an item of incompatible dtype is deprecated and will raise an error in a future version of pandas. Value '' has dtype incompatible with float64, please explicitly cast to a compatible dtype first.\n",
      "  basic_mesures_data.fillna(\"\", inplace=True)\n",
      "/var/folders/hp/g2knsnlj4y18ybnh9bjz7rkh0000gp/T/ipykernel_30753/1970612302.py:4: FutureWarning: Setting an item of incompatible dtype is deprecated and will raise an error in a future version of pandas. Value '' has dtype incompatible with float64, please explicitly cast to a compatible dtype first.\n",
      "  basic_mesures_data.fillna(\"\", inplace=True)\n",
      "/var/folders/hp/g2knsnlj4y18ybnh9bjz7rkh0000gp/T/ipykernel_30753/1970612302.py:4: FutureWarning: Setting an item of incompatible dtype is deprecated and will raise an error in a future version of pandas. Value '' has dtype incompatible with float64, please explicitly cast to a compatible dtype first.\n",
      "  basic_mesures_data.fillna(\"\", inplace=True)\n",
      "/var/folders/hp/g2knsnlj4y18ybnh9bjz7rkh0000gp/T/ipykernel_30753/1970612302.py:4: FutureWarning: Setting an item of incompatible dtype is deprecated and will raise an error in a future version of pandas. Value '' has dtype incompatible with float64, please explicitly cast to a compatible dtype first.\n",
      "  basic_mesures_data.fillna(\"\", inplace=True)\n"
     ]
    }
   ],
   "source": [
    "for activities in os.listdir(\"/Users/cslinxs/Desktop/all_weeks/aurorabp-sample-data/sample/measurements_auscultatory/a000\"):\n",
    "    \n",
    "    print(get_person_activity_data(\"a000\",activities ))"
   ]
  },
  {
   "cell_type": "code",
   "execution_count": 55,
   "metadata": {},
   "outputs": [],
   "source": [
    "auscultatory_data = \"/Users/cslinxs/Desktop/all_weeks/aurorabp-sample-data/sample/measurements_auscultatory.tsv\"\n",
    "basic_mesures_data = pd.read_csv(auscultatory_data,sep = '\\t') "
   ]
  },
  {
   "cell_type": "code",
   "execution_count": 57,
   "metadata": {},
   "outputs": [
    {
     "ename": "NameError",
     "evalue": "name 'all_overlaps_means' is not defined",
     "output_type": "error",
     "traceback": [
      "\u001b[0;31m---------------------------------------------------------------------------\u001b[0m",
      "\u001b[0;31mNameError\u001b[0m                                 Traceback (most recent call last)",
      "Cell \u001b[0;32mIn[57], line 1\u001b[0m\n\u001b[0;32m----> 1\u001b[0m resampled_y \u001b[38;5;241m=\u001b[39m signal\u001b[38;5;241m.\u001b[39mresample(\u001b[43mall_overlaps_means\u001b[49m[:\u001b[38;5;241m476\u001b[39m], \u001b[38;5;241m50\u001b[39m)\n\u001b[1;32m      2\u001b[0m resampled_x \u001b[38;5;241m=\u001b[39m signal\u001b[38;5;241m.\u001b[39mresample(\u001b[38;5;28mlist\u001b[39m(\u001b[38;5;28mrange\u001b[39m(\u001b[38;5;28mlen\u001b[39m(all_overlaps_means))), \u001b[38;5;241m50\u001b[39m)\n\u001b[1;32m      3\u001b[0m \u001b[38;5;28mprint\u001b[39m((resampled_y))\n",
      "\u001b[0;31mNameError\u001b[0m: name 'all_overlaps_means' is not defined"
     ]
    }
   ],
   "source": []
  },
  {
   "cell_type": "code",
   "execution_count": null,
   "metadata": {},
   "outputs": [],
   "source": []
  }
 ],
 "metadata": {
  "kernelspec": {
   "display_name": "Python 3",
   "language": "python",
   "name": "python3"
  },
  "language_info": {
   "codemirror_mode": {
    "name": "ipython",
    "version": 3
   },
   "file_extension": ".py",
   "mimetype": "text/x-python",
   "name": "python",
   "nbconvert_exporter": "python",
   "pygments_lexer": "ipython3",
   "version": "3.9.6"
  }
 },
 "nbformat": 4,
 "nbformat_minor": 2
}
