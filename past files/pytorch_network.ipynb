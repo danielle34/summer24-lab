{
 "cells": [
  {
   "cell_type": "code",
   "execution_count": 1,
   "metadata": {},
   "outputs": [],
   "source": [
    "import pandas as pd\n",
    "import numpy as np\n",
    "import matplotlib.pyplot as plt\n",
    "\n",
    "import torch\n",
    "import torch.nn as nn\n",
    "\n",
    "from scipy.signal import find_peaks\n",
    "from scipy import signal\n",
    "import os\n",
    "\n",
    "from pathlib import Path\n",
    "\n",
    "import pickle\n",
    "\n",
    "path_aurora_dataset = Path('/Users/cslinxs/Desktop/aurora_dataset/aurora_dataset/')\n",
    "\n",
    "\n",
    "def reject_outliers(data):\n",
    "    #return data[abs(data - np.mean(data)) < 0.3 * np.mean(data)]\n",
    "    return data[abs(data - np.mean(data)) <3 * np.std(data)]\n",
    "\n",
    "\n",
    "\n",
    "dictionary_path = \"/Users/cslinxs/Desktop/all_weeks/summer24-lab/measurements_auscultatory_dictionary_ALL.pkl\"\n",
    "\n",
    "with open(dictionary_path, 'rb') as handle:\n",
    "    all_auscultatory_dic = pickle.load(handle)\n",
    "\n",
    "\n",
    "#https://www.youtube.com/watch?v=q_HS4s1L8UI"
   ]
  },
  {
   "cell_type": "code",
   "execution_count": 25,
   "metadata": {},
   "outputs": [],
   "source": [
    "# for person in sorted(os.listdir(path_aurora_dataset/\"measurements_auscultatory\"))[:2]:\n",
    "#     if \"a\" in person:\n",
    "#         filler_to_person = basic_mesures_data[basic_mesures_data[\"pid\"] == person]\n",
    "#         print(\"hi\")\n",
    "#         for each_path in filler_to_person[\"waveform_file_path\"]:\n",
    "#             flatlined_data = get_even_split(path_aurora_dataset/each_path)\n",
    "#             print(flatlined_data)\n",
    "\n",
    "            \n",
    "#             # here he made a copy of the data fram with everything shirted back 7 cuz 7 days\n",
    "#             # i think I should skip using the averge distance\n",
    "#             look_back = 7\n",
    "#             shifted_df = prepare_data_frame_for_lstm(flatlined_data, )\n",
    "\n",
    "\n",
    "            \n"
   ]
  },
  {
   "cell_type": "code",
   "execution_count": 26,
   "metadata": {},
   "outputs": [],
   "source": [
    "import pandas as pd\n",
    "import torch \n",
    "import torch.nn as nn\n",
    "import torch.optim as optim\n",
    "import numpy as np\n",
    "import matplotlib.pyplot as plt\n",
    "import tensorflow as tf"
   ]
  },
  {
   "cell_type": "code",
   "execution_count": 263,
   "metadata": {},
   "outputs": [],
   "source": [
    "path_aurora_dataset = Path('/Users/cslinxs/Desktop/aurora_dataset/aurora_dataset/')\n",
    "auscultatory_data = path_aurora_dataset / \"measurements_auscultatory.tsv\"\n",
    "\n",
    "participants_data =  path_aurora_dataset / \"participants.tsv\"\n",
    "basic_mesures_data = pd.read_csv(auscultatory_data,sep = '\\t').dropna(subset=[\"waveform_file_path\"]).dropna(subset=[\"sbp\"]).dropna(subset=[\"dbp\"]) \n",
    "\n",
    "def get_even_split(path):\n",
    "    #print(path)\n",
    "    df = pd.read_csv(path,sep = '\\t')   \n",
    "    pos_pressure = df[\"pressure\"]\n",
    "\n",
    "    neglist = [ -x for x in pos_pressure]\n",
    "\n",
    "    b, a = signal.butter(1, 0.002, analog=False)\n",
    "    gustafsson_avg = signal.filtfilt(b, a, x= pos_pressure, method=\"gust\")\n",
    "    y_flater = [real_pre-abs( guston_avg) for real_pre, guston_avg in zip(pos_pressure, gustafsson_avg)]\n",
    "\n",
    "    y_flater = np.array(y_flater)\n",
    "    neglist = [ -x for x in y_flater]\n",
    "\n",
    "    neg_max_values = max(neglist)\n",
    "    neg_mix_values = min(neglist)\n",
    "    mid_neg_value= neg_max_values - neg_mix_values\n",
    "\n",
    "    min_height = neg_max_values - mid_neg_value*0.30 \n",
    "\n",
    "    min_peaks, _ = find_peaks(neglist , height= min_height, width=80)\n",
    "\n",
    "\n",
    "    most_accurate_mins = min_peaks\n",
    "    diffrences_new_min = reject_outliers(np.diff(most_accurate_mins))\n",
    "    diffrences_new_min\n",
    "    plt.plot(y_flater)\n",
    "    \n",
    "    plt.show()\n",
    "    return  y_flater # (len(diffrences_new_min.mean()), pos_pressure)#len(diffrences_new_min.mean())\n",
    " \n",
    "\n",
    "def prepare_data_frame_for_lstm(df,n_steps,pos_pressure ):\n",
    "    df = df.pandas(df)\n",
    "    for i in range(1, n_steps+1):\n",
    "        df[f\"shift \\(t-{i})\"] = pos_pressure.shift(i)\n",
    "\n",
    "\n",
    "# everything[each_path] = [each_path_50_cords, filler_to_person[filler_to_person[\"waveform_file_path\"] == each_path][\"sbp\"], \n",
    "#                          filler_to_person[filler_to_person[\"waveform_file_path\"] == each_path][\"dbp\"] ]\n",
    "\n",
    "        "
   ]
  },
  {
   "cell_type": "code",
   "execution_count": 264,
   "metadata": {},
   "outputs": [],
   "source": [
    "# def iterate_minibatches(inputs,targets, batchsize, shuffle= False):\n",
    "#     if shuffle:\n",
    "#         indices = np.arrange(len(inputs))\n",
    "#         np.random.shuffle(indices)\n",
    "#     for start_idx in range(0, len(inputs)-batchsize+1,batchsize):\n",
    "#         if shuffle:\n",
    "#             excerp = indices[start_idx: start_idx+batchsize]\n",
    "#         else:\n",
    "#             excerp = slice(start_idx, start_idx + batchsize)\n",
    "#             # indices[start_idx: start_idx+batchsize]\n",
    "#         yield inputs[excerp], targets[excerp]\n",
    "\n",
    "# class CNN1_Net(nn.Module):\n",
    "#     def __init__(self, kernel_size_1 =5,\n",
    "#                  stride_size=1, num_channels =1, depth_1 =1, depth_2 =5, \n",
    "#                  kernel_size_2 =5, num_hidden =20, num_labels =5):\n",
    "#         super(CNN1_Net, self).__init__()\n",
    "\n",
    "#         self.classifer = nn.Sequential(\n",
    "#             nn.Conv1d(num_channels, depth_1, kernel_size=kernel_size_1)\n",
    "#         )\n",
    "\n",
    "#         self.fc1 = nn.Sequential(nn.Linear(depth_2*kernel_size_2,num_hidden),\n",
    "#                                  nn.ReLU(),\n",
    "#                                  nn.Dropout(0.5)\n",
    "#                                  )\n",
    "#         self.fc2 = nn.Sequential(nn.Linear(num_hidden, num_labels),\n",
    "#                                  nn.ReLU(),\n",
    "#                                  nn.Dropout(0.5)\n",
    "#                                  )\n",
    "\n",
    "#     def forward(self, x):\n",
    "#         x = self.classifer(x)\n",
    "#         print(x)\n",
    "#         return x"
   ]
  },
  {
   "cell_type": "code",
   "execution_count": 265,
   "metadata": {},
   "outputs": [
    {
     "name": "stdout",
     "output_type": "stream",
     "text": [
      "hi\n",
      "measurements_auscultatory/a000/a000.initial.Exercise_challenge_start_1.tsv\n"
     ]
    },
    {
     "data": {
      "image/png": "[encoded data removed]",
      "text/plain": [
       "<Figure size 640x480 with 1 Axes>"
      ]
     },
     "metadata": {},
     "output_type": "display_data"
    },
    {
     "name": "stdout",
     "output_type": "stream",
     "text": [
      "measurements_auscultatory/a000/a000.initial.Exercise_challenge_start_2.tsv\n"
     ]
    },
    {
     "data": {
      "image/png": "[encoded data removed]",
      "text/plain": [
       "<Figure size 640x480 with 1 Axes>"
      ]
     },
     "metadata": {},
     "output_type": "display_data"
    }
   ],
   "source": [
    "all_data_recordings = []\n",
    "\n",
    "for person in sorted(os.listdir(path_aurora_dataset/\"measurements_auscultatory\"))[:2]:\n",
    "    if \"a\" in person:\n",
    "        filler_to_person = basic_mesures_data[basic_mesures_data[\"pid\"] == person]\n",
    "        print(\"hi\")\n",
    "        for each_path in filler_to_person[\"waveform_file_path\"]:\n",
    "            if \"Exercise\" in each_path:\n",
    "                print(each_path)\n",
    "                flatlined_data = get_even_split(path_aurora_dataset/each_path)\n",
    "                all_data_recordings.append(flatlined_data)"
   ]
  },
  {
   "cell_type": "markdown",
   "metadata": {},
   "source": []
  },
  {
   "cell_type": "code",
   "execution_count": 266,
   "metadata": {},
   "outputs": [],
   "source": [
    "# #https://www.youtube.com/watch?v=W58HaGKhjWg\n",
    "# net = nn.Conv1d(1,1,5, bias =False)\n",
    "# optimzer = optim.Adam(net.parameters(), lr=0.01)\n",
    "# running_loss = 0.0\n",
    "\n",
    "# X = list(range(len(all_data_recordings[0])))\n",
    "# Y = all_data_recordings[0]\n",
    "\n",
    "# print(len(X), len(Y))\n",
    "\n",
    "# X_tensor = torch.Tensor(X).reshape(1,1,-1)\n",
    "# print(\"Times\", X_tensor)\n",
    "\n",
    "# Y_tensor = torch.Tensor(Y).reshape(1,1,-1)\n",
    "# print(\"Pressure\", Y_tensor)\n",
    "\n",
    "\n",
    "# ts_tensor = torch.Tensor(X).reshape(1,1,-1)\n",
    "# kernel = [-40,40]\n",
    "# kernel_tensor = torch.tensor(kernel).reshape(1,1,-1)\n",
    "# #print(\"Kernel\",  nn.Conv1d(ts_tensor,kernel_tensor))\n",
    "\n",
    "\n",
    "# for epoch in range(100):\n",
    "#     #print(\"start\")\n",
    "#     optimzer.zero_grad()\n",
    "#     outputs = net(X_tensor)\n",
    "    \n",
    "#     #print(\"hi\",(outputs),(Y_tensor))\n",
    "\n",
    "#     #This is an iss\n",
    "#     print(len(outputs[0][0]), len(Y_tensor[0][0]))\n",
    "#     loss_value = torch.mean(outputs**2)\n",
    "#     loss_value.backward()\n",
    "\n",
    "#     optimzer.step()\n",
    "\n",
    "#     running_loss + loss_value.item()\n",
    "#     # if epoch %100 ==0:\n",
    "#     #     print(net.weight.data.numpy())\n",
    "\n",
    "# prediction = (net(X_tensor).data).float()\n",
    "# prediction =  prediction.numpy().flatten()\n",
    "# plt.title(\"Using 1d tensors\")\n",
    "# plt.plot(prediction)\n",
    "# plt.plot(Y)\n"
   ]
  },
  {
   "cell_type": "code",
   "execution_count": null,
   "metadata": {},
   "outputs": [],
   "source": []
  },
  {
   "cell_type": "code",
   "execution_count": 267,
   "metadata": {},
   "outputs": [],
   "source": [
    "#https://www.youtube.com/watch?v=q_HS4s1L8UI\n",
    "# https://colab.research.google.com/drive/1CBIdPxHn_W2ARx4VozRLIptBrXk7ZBoM?usp=sharing#scrollTo=-Xon2PHWno7t\n",
    "import pandas as pd\n",
    "import numpy as np\n",
    "import matplotlib.pyplot as plt\n",
    "\n",
    "import torch\n",
    "import torch.nn as nn\n"
   ]
  },
  {
   "cell_type": "code",
   "execution_count": 268,
   "metadata": {},
   "outputs": [
    {
     "name": "stdout",
     "output_type": "stream",
     "text": [
      "[-4.81614166 -4.91633278 -5.016718   ... -8.04705951 -8.04642814\n",
      " -7.94611344]\n",
      "-4.816141658978495\n",
      "-4.916332782734344\n",
      "-5.016717998721333\n",
      "-5.1173012700544405\n",
      "-5.118085580690604\n",
      "-5.219072935547274\n",
      "-5.320266334533926\n",
      "-5.421669772671521\n",
      "-5.523287253273793\n",
      "-5.525121801126488\n",
      "-5.527174475633046\n",
      "-5.629446344807775\n",
      "-5.631939472295244\n",
      "-5.634654943498617\n",
      "-5.637592865622082\n",
      "-5.740754341629099\n",
      "-5.744141470284376\n",
      "-5.847756359262576\n",
      "-5.851601125228854\n",
      "-5.755675919971736\n",
      "-5.659977943429567\n",
      "-5.564503417536116\n",
      "-5.369247586069378\n",
      "-5.17420372748802\n",
      "-4.979364141642236\n",
      "-4.7847211364471605\n",
      "-4.490266040601682\n",
      "-4.295989203246563\n",
      "-4.001880980560372\n",
      "-3.7079307484013952\n",
      "-3.4141269018894036\n",
      "-3.2204588288984723\n",
      "-3.0269178966177606\n",
      "-2.833496464231075\n",
      "-2.6401868956413637\n",
      "-2.5469825461436812\n",
      "-2.3538777621638474\n",
      "-2.1608659070820977\n",
      "-1.867938373993411\n",
      "-1.675085572345779\n",
      "-1.3822979145372756\n",
      "-1.1895658155367528\n",
      "-0.8968796925084916\n",
      "-0.8042309514071349\n",
      "-0.7116139605934677\n",
      "-0.6190250636350356\n",
      "-0.7264625791617618\n",
      "-0.8339287747533035\n",
      "-0.8414269060981496\n",
      "-0.9489592431689289\n",
      "-1.0565290442652895\n",
      "-1.1641405561431384\n",
      "-1.271798027203431\n",
      "-1.3795057076631565\n",
      "-1.4872678497210927\n",
      "-1.5950887077262905\n",
      "-1.7029725383454206\n",
      "-1.9109245877079957\n",
      "-2.0189510916145537\n",
      "-2.2270582888027093\n",
      "-2.335252421197538\n",
      "-2.5435397341559565\n",
      "-2.8519284506664917\n",
      "-3.060428771675106\n",
      "-3.169048928579059\n",
      "-3.3777951835550084\n",
      "-3.586674790733241\n",
      "-3.895696983462585\n",
      "-4.004871000720868\n",
      "-4.2142041135268755\n",
      "-4.323702612202624\n",
      "-4.4333718066231995\n",
      "-4.54321602642608\n",
      "-4.753240595135821\n",
      "-4.863451830372924\n",
      "-4.973855070150876\n",
      "-5.084454673086157\n",
      "-5.195255005548688\n",
      "-5.206259454854944\n",
      "-5.11746845545008\n",
      "-5.128880475901951\n",
      "-5.14049497977021\n",
      "-5.152312425583659\n",
      "-5.064332292908148\n",
      "-5.076553082323471\n",
      "-4.988973302341492\n",
      "-5.001591469347204\n",
      "-5.014407094517992\n",
      "-5.02742068380212\n",
      "-5.040632750964505\n",
      "-5.154044804581645\n",
      "-5.167659348102461\n",
      "-5.181477905992779\n",
      "-5.095500036819885\n",
      "-5.109724320210944\n",
      "-5.124150330751036\n",
      "-5.038777650988322\n",
      "-4.953603897466337\n",
      "-4.868625707604451\n",
      "-4.683838739566681\n"
     ]
    }
   ],
   "source": [
    "from copy import deepcopy as dc\n",
    "\n",
    "def prepare_dataframe_for_lstm(df, n_steps):\n",
    "    df = dc(df)\n",
    "\n",
    "    print(df)\n",
    "    for i in range(100):\n",
    "        print(df[i])\n",
    "    # for i in range(1, n_steps+1):\n",
    "    #     df[f'Close(t-{i})'] = df[i].shift(i)\n",
    "\n",
    "    # df.dropna(inplace=True)\n",
    "\n",
    "    # return df\n",
    "\n",
    "lookback = 7\n",
    "shifted_df = prepare_dataframe_for_lstm(np.array(all_data_recordings[0]), lookback)\n",
    "shifted_df"
   ]
  },
  {
   "cell_type": "code",
   "execution_count": 269,
   "metadata": {},
   "outputs": [
    {
     "data": {
      "text/html": [
       "<div>\n",
       "<style scoped>\n",
       "    .dataframe tbody tr th:only-of-type {\n",
       "        vertical-align: middle;\n",
       "    }\n",
       "\n",
       "    .dataframe tbody tr th {\n",
       "        vertical-align: top;\n",
       "    }\n",
       "\n",
       "    .dataframe thead th {\n",
       "        text-align: right;\n",
       "    }\n",
       "</style>\n",
       "<table border=\"1\" class=\"dataframe\">\n",
       "  <thead>\n",
       "    <tr style=\"text-align: right;\">\n",
       "      <th></th>\n",
       "      <th>pressure</th>\n",
       "      <th>Close(t-1)</th>\n",
       "      <th>Close(t-2)</th>\n",
       "      <th>Close(t-3)</th>\n",
       "      <th>Close(t-4)</th>\n",
       "      <th>Close(t-5)</th>\n",
       "      <th>Close(t-6)</th>\n",
       "      <th>Close(t-7)</th>\n",
       "      <th>Close(t-8)</th>\n",
       "      <th>Close(t-9)</th>\n",
       "      <th>...</th>\n",
       "      <th>Close(t-391)</th>\n",
       "      <th>Close(t-392)</th>\n",
       "      <th>Close(t-393)</th>\n",
       "      <th>Close(t-394)</th>\n",
       "      <th>Close(t-395)</th>\n",
       "      <th>Close(t-396)</th>\n",
       "      <th>Close(t-397)</th>\n",
       "      <th>Close(t-398)</th>\n",
       "      <th>Close(t-399)</th>\n",
       "      <th>Close(t-400)</th>\n",
       "    </tr>\n",
       "  </thead>\n",
       "  <tbody>\n",
       "    <tr>\n",
       "      <th>400</th>\n",
       "      <td>4.937336</td>\n",
       "      <td>4.754270</td>\n",
       "      <td>4.571392</td>\n",
       "      <td>4.488695</td>\n",
       "      <td>4.306174</td>\n",
       "      <td>4.123824</td>\n",
       "      <td>4.041637</td>\n",
       "      <td>3.959610</td>\n",
       "      <td>3.977740</td>\n",
       "      <td>3.996027</td>\n",
       "      <td>...</td>\n",
       "      <td>-5.525122</td>\n",
       "      <td>-5.523287</td>\n",
       "      <td>-5.421670</td>\n",
       "      <td>-5.320266</td>\n",
       "      <td>-5.219073</td>\n",
       "      <td>-5.118086</td>\n",
       "      <td>-5.117301</td>\n",
       "      <td>-5.016718</td>\n",
       "      <td>-4.916333</td>\n",
       "      <td>-4.816142</td>\n",
       "    </tr>\n",
       "    <tr>\n",
       "      <th>401</th>\n",
       "      <td>5.020595</td>\n",
       "      <td>4.937336</td>\n",
       "      <td>4.754270</td>\n",
       "      <td>4.571392</td>\n",
       "      <td>4.488695</td>\n",
       "      <td>4.306174</td>\n",
       "      <td>4.123824</td>\n",
       "      <td>4.041637</td>\n",
       "      <td>3.959610</td>\n",
       "      <td>3.977740</td>\n",
       "      <td>...</td>\n",
       "      <td>-5.527174</td>\n",
       "      <td>-5.525122</td>\n",
       "      <td>-5.523287</td>\n",
       "      <td>-5.421670</td>\n",
       "      <td>-5.320266</td>\n",
       "      <td>-5.219073</td>\n",
       "      <td>-5.118086</td>\n",
       "      <td>-5.117301</td>\n",
       "      <td>-5.016718</td>\n",
       "      <td>-4.916333</td>\n",
       "    </tr>\n",
       "    <tr>\n",
       "      <th>402</th>\n",
       "      <td>5.204054</td>\n",
       "      <td>5.020595</td>\n",
       "      <td>4.937336</td>\n",
       "      <td>4.754270</td>\n",
       "      <td>4.571392</td>\n",
       "      <td>4.488695</td>\n",
       "      <td>4.306174</td>\n",
       "      <td>4.123824</td>\n",
       "      <td>4.041637</td>\n",
       "      <td>3.959610</td>\n",
       "      <td>...</td>\n",
       "      <td>-5.629446</td>\n",
       "      <td>-5.527174</td>\n",
       "      <td>-5.525122</td>\n",
       "      <td>-5.523287</td>\n",
       "      <td>-5.421670</td>\n",
       "      <td>-5.320266</td>\n",
       "      <td>-5.219073</td>\n",
       "      <td>-5.118086</td>\n",
       "      <td>-5.117301</td>\n",
       "      <td>-5.016718</td>\n",
       "    </tr>\n",
       "    <tr>\n",
       "      <th>403</th>\n",
       "      <td>5.287718</td>\n",
       "      <td>5.204054</td>\n",
       "      <td>5.020595</td>\n",
       "      <td>4.937336</td>\n",
       "      <td>4.754270</td>\n",
       "      <td>4.571392</td>\n",
       "      <td>4.488695</td>\n",
       "      <td>4.306174</td>\n",
       "      <td>4.123824</td>\n",
       "      <td>4.041637</td>\n",
       "      <td>...</td>\n",
       "      <td>-5.631939</td>\n",
       "      <td>-5.629446</td>\n",
       "      <td>-5.527174</td>\n",
       "      <td>-5.525122</td>\n",
       "      <td>-5.523287</td>\n",
       "      <td>-5.421670</td>\n",
       "      <td>-5.320266</td>\n",
       "      <td>-5.219073</td>\n",
       "      <td>-5.118086</td>\n",
       "      <td>-5.117301</td>\n",
       "    </tr>\n",
       "    <tr>\n",
       "      <th>404</th>\n",
       "      <td>5.371590</td>\n",
       "      <td>5.287718</td>\n",
       "      <td>5.204054</td>\n",
       "      <td>5.020595</td>\n",
       "      <td>4.937336</td>\n",
       "      <td>4.754270</td>\n",
       "      <td>4.571392</td>\n",
       "      <td>4.488695</td>\n",
       "      <td>4.306174</td>\n",
       "      <td>4.123824</td>\n",
       "      <td>...</td>\n",
       "      <td>-5.634655</td>\n",
       "      <td>-5.631939</td>\n",
       "      <td>-5.629446</td>\n",
       "      <td>-5.527174</td>\n",
       "      <td>-5.525122</td>\n",
       "      <td>-5.523287</td>\n",
       "      <td>-5.421670</td>\n",
       "      <td>-5.320266</td>\n",
       "      <td>-5.219073</td>\n",
       "      <td>-5.118086</td>\n",
       "    </tr>\n",
       "    <tr>\n",
       "      <th>...</th>\n",
       "      <td>...</td>\n",
       "      <td>...</td>\n",
       "      <td>...</td>\n",
       "      <td>...</td>\n",
       "      <td>...</td>\n",
       "      <td>...</td>\n",
       "      <td>...</td>\n",
       "      <td>...</td>\n",
       "      <td>...</td>\n",
       "      <td>...</td>\n",
       "      <td>...</td>\n",
       "      <td>...</td>\n",
       "      <td>...</td>\n",
       "      <td>...</td>\n",
       "      <td>...</td>\n",
       "      <td>...</td>\n",
       "      <td>...</td>\n",
       "      <td>...</td>\n",
       "      <td>...</td>\n",
       "      <td>...</td>\n",
       "      <td>...</td>\n",
       "    </tr>\n",
       "    <tr>\n",
       "      <th>10125</th>\n",
       "      <td>-8.149280</td>\n",
       "      <td>-8.150873</td>\n",
       "      <td>-8.152787</td>\n",
       "      <td>-8.155023</td>\n",
       "      <td>-8.157581</td>\n",
       "      <td>-8.160461</td>\n",
       "      <td>-8.063663</td>\n",
       "      <td>-8.067183</td>\n",
       "      <td>-8.071022</td>\n",
       "      <td>-8.075180</td>\n",
       "      <td>...</td>\n",
       "      <td>4.192981</td>\n",
       "      <td>4.455185</td>\n",
       "      <td>4.817567</td>\n",
       "      <td>5.080138</td>\n",
       "      <td>5.342909</td>\n",
       "      <td>5.705892</td>\n",
       "      <td>6.069100</td>\n",
       "      <td>6.332547</td>\n",
       "      <td>6.596244</td>\n",
       "      <td>6.760201</td>\n",
       "    </tr>\n",
       "    <tr>\n",
       "      <th>10126</th>\n",
       "      <td>-8.148010</td>\n",
       "      <td>-8.149280</td>\n",
       "      <td>-8.150873</td>\n",
       "      <td>-8.152787</td>\n",
       "      <td>-8.155023</td>\n",
       "      <td>-8.157581</td>\n",
       "      <td>-8.160461</td>\n",
       "      <td>-8.063663</td>\n",
       "      <td>-8.067183</td>\n",
       "      <td>-8.071022</td>\n",
       "      <td>...</td>\n",
       "      <td>3.930942</td>\n",
       "      <td>4.192981</td>\n",
       "      <td>4.455185</td>\n",
       "      <td>4.817567</td>\n",
       "      <td>5.080138</td>\n",
       "      <td>5.342909</td>\n",
       "      <td>5.705892</td>\n",
       "      <td>6.069100</td>\n",
       "      <td>6.332547</td>\n",
       "      <td>6.596244</td>\n",
       "    </tr>\n",
       "    <tr>\n",
       "      <th>10127</th>\n",
       "      <td>-8.047060</td>\n",
       "      <td>-8.148010</td>\n",
       "      <td>-8.149280</td>\n",
       "      <td>-8.150873</td>\n",
       "      <td>-8.152787</td>\n",
       "      <td>-8.155023</td>\n",
       "      <td>-8.157581</td>\n",
       "      <td>-8.160461</td>\n",
       "      <td>-8.063663</td>\n",
       "      <td>-8.067183</td>\n",
       "      <td>...</td>\n",
       "      <td>3.769059</td>\n",
       "      <td>3.930942</td>\n",
       "      <td>4.192981</td>\n",
       "      <td>4.455185</td>\n",
       "      <td>4.817567</td>\n",
       "      <td>5.080138</td>\n",
       "      <td>5.342909</td>\n",
       "      <td>5.705892</td>\n",
       "      <td>6.069100</td>\n",
       "      <td>6.332547</td>\n",
       "    </tr>\n",
       "    <tr>\n",
       "      <th>10128</th>\n",
       "      <td>-8.046428</td>\n",
       "      <td>-8.047060</td>\n",
       "      <td>-8.148010</td>\n",
       "      <td>-8.149280</td>\n",
       "      <td>-8.150873</td>\n",
       "      <td>-8.152787</td>\n",
       "      <td>-8.155023</td>\n",
       "      <td>-8.157581</td>\n",
       "      <td>-8.160461</td>\n",
       "      <td>-8.063663</td>\n",
       "      <td>...</td>\n",
       "      <td>3.507324</td>\n",
       "      <td>3.769059</td>\n",
       "      <td>3.930942</td>\n",
       "      <td>4.192981</td>\n",
       "      <td>4.455185</td>\n",
       "      <td>4.817567</td>\n",
       "      <td>5.080138</td>\n",
       "      <td>5.342909</td>\n",
       "      <td>5.705892</td>\n",
       "      <td>6.069100</td>\n",
       "    </tr>\n",
       "    <tr>\n",
       "      <th>10129</th>\n",
       "      <td>-7.946113</td>\n",
       "      <td>-8.046428</td>\n",
       "      <td>-8.047060</td>\n",
       "      <td>-8.148010</td>\n",
       "      <td>-8.149280</td>\n",
       "      <td>-8.150873</td>\n",
       "      <td>-8.152787</td>\n",
       "      <td>-8.155023</td>\n",
       "      <td>-8.157581</td>\n",
       "      <td>-8.160461</td>\n",
       "      <td>...</td>\n",
       "      <td>3.245727</td>\n",
       "      <td>3.507324</td>\n",
       "      <td>3.769059</td>\n",
       "      <td>3.930942</td>\n",
       "      <td>4.192981</td>\n",
       "      <td>4.455185</td>\n",
       "      <td>4.817567</td>\n",
       "      <td>5.080138</td>\n",
       "      <td>5.342909</td>\n",
       "      <td>5.705892</td>\n",
       "    </tr>\n",
       "  </tbody>\n",
       "</table>\n",
       "<p>9730 rows × 401 columns</p>\n",
       "</div>"
      ],
      "text/plain": [
       "       pressure  Close(t-1)  Close(t-2)  Close(t-3)  Close(t-4)  Close(t-5)  \\\n",
       "400    4.937336    4.754270    4.571392    4.488695    4.306174    4.123824   \n",
       "401    5.020595    4.937336    4.754270    4.571392    4.488695    4.306174   \n",
       "402    5.204054    5.020595    4.937336    4.754270    4.571392    4.488695   \n",
       "403    5.287718    5.204054    5.020595    4.937336    4.754270    4.571392   \n",
       "404    5.371590    5.287718    5.204054    5.020595    4.937336    4.754270   \n",
       "...         ...         ...         ...         ...         ...         ...   \n",
       "10125 -8.149280   -8.150873   -8.152787   -8.155023   -8.157581   -8.160461   \n",
       "10126 -8.148010   -8.149280   -8.150873   -8.152787   -8.155023   -8.157581   \n",
       "10127 -8.047060   -8.148010   -8.149280   -8.150873   -8.152787   -8.155023   \n",
       "10128 -8.046428   -8.047060   -8.148010   -8.149280   -8.150873   -8.152787   \n",
       "10129 -7.946113   -8.046428   -8.047060   -8.148010   -8.149280   -8.150873   \n",
       "\n",
       "       Close(t-6)  Close(t-7)  Close(t-8)  Close(t-9)  ...  Close(t-391)  \\\n",
       "400      4.041637    3.959610    3.977740    3.996027  ...     -5.525122   \n",
       "401      4.123824    4.041637    3.959610    3.977740  ...     -5.527174   \n",
       "402      4.306174    4.123824    4.041637    3.959610  ...     -5.629446   \n",
       "403      4.488695    4.306174    4.123824    4.041637  ...     -5.631939   \n",
       "404      4.571392    4.488695    4.306174    4.123824  ...     -5.634655   \n",
       "...           ...         ...         ...         ...  ...           ...   \n",
       "10125   -8.063663   -8.067183   -8.071022   -8.075180  ...      4.192981   \n",
       "10126   -8.160461   -8.063663   -8.067183   -8.071022  ...      3.930942   \n",
       "10127   -8.157581   -8.160461   -8.063663   -8.067183  ...      3.769059   \n",
       "10128   -8.155023   -8.157581   -8.160461   -8.063663  ...      3.507324   \n",
       "10129   -8.152787   -8.155023   -8.157581   -8.160461  ...      3.245727   \n",
       "\n",
       "       Close(t-392)  Close(t-393)  Close(t-394)  Close(t-395)  Close(t-396)  \\\n",
       "400       -5.523287     -5.421670     -5.320266     -5.219073     -5.118086   \n",
       "401       -5.525122     -5.523287     -5.421670     -5.320266     -5.219073   \n",
       "402       -5.527174     -5.525122     -5.523287     -5.421670     -5.320266   \n",
       "403       -5.629446     -5.527174     -5.525122     -5.523287     -5.421670   \n",
       "404       -5.631939     -5.629446     -5.527174     -5.525122     -5.523287   \n",
       "...             ...           ...           ...           ...           ...   \n",
       "10125      4.455185      4.817567      5.080138      5.342909      5.705892   \n",
       "10126      4.192981      4.455185      4.817567      5.080138      5.342909   \n",
       "10127      3.930942      4.192981      4.455185      4.817567      5.080138   \n",
       "10128      3.769059      3.930942      4.192981      4.455185      4.817567   \n",
       "10129      3.507324      3.769059      3.930942      4.192981      4.455185   \n",
       "\n",
       "       Close(t-397)  Close(t-398)  Close(t-399)  Close(t-400)  \n",
       "400       -5.117301     -5.016718     -4.916333     -4.816142  \n",
       "401       -5.118086     -5.117301     -5.016718     -4.916333  \n",
       "402       -5.219073     -5.118086     -5.117301     -5.016718  \n",
       "403       -5.320266     -5.219073     -5.118086     -5.117301  \n",
       "404       -5.421670     -5.320266     -5.219073     -5.118086  \n",
       "...             ...           ...           ...           ...  \n",
       "10125      6.069100      6.332547      6.596244      6.760201  \n",
       "10126      5.705892      6.069100      6.332547      6.596244  \n",
       "10127      5.342909      5.705892      6.069100      6.332547  \n",
       "10128      5.080138      5.342909      5.705892      6.069100  \n",
       "10129      4.817567      5.080138      5.342909      5.705892  \n",
       "\n",
       "[9730 rows x 401 columns]"
      ]
     },
     "execution_count": 269,
     "metadata": {},
     "output_type": "execute_result"
    }
   ],
   "source": [
    "from copy import deepcopy as dc\n",
    "\n",
    "def prepare_dataframe_for_lstm(df, n_steps):\n",
    "    df = dc(df)\n",
    "\n",
    "\n",
    "    for i in range(1, n_steps+1):\n",
    "        df = pd.concat([df, df['pressure'].shift(i).rename(f'Close(t-{i})')], axis=1)\n",
    "        #pd.concat((df1,df),axis=0)\n",
    "\n",
    "\n",
    "    \n",
    "    df.dropna(inplace=True)\n",
    "\n",
    "    return df\n",
    "\n",
    "lookback = 400 # this should be the average later\n",
    "\n",
    "first_dataframe = pd.DataFrame({\"pressure\":all_data_recordings[0]})\n",
    "# first_dataframe\n",
    "\n",
    "shifted_df = prepare_dataframe_for_lstm(first_dataframe, lookback)\n",
    "shifted_df"
   ]
  },
  {
   "cell_type": "code",
   "execution_count": 270,
   "metadata": {},
   "outputs": [
    {
     "data": {
      "text/plain": [
       "array([[ 4.93733563,  4.75426975,  4.57139157, ..., -5.016718  ,\n",
       "        -4.91633278, -4.81614166],\n",
       "       [ 5.02059544,  4.93733563,  4.75426975, ..., -5.11730127,\n",
       "        -5.016718  , -4.91633278],\n",
       "       [ 5.20405444,  5.02059544,  4.93733563, ..., -5.11808558,\n",
       "        -5.11730127, -5.016718  ],\n",
       "       ...,\n",
       "       [-8.04705951, -8.14800956, -8.14928029, ...,  5.70589199,\n",
       "         6.0691004 ,  6.33254743],\n",
       "       [-8.04642814, -8.04705951, -8.14800956, ...,  5.34290885,\n",
       "         5.70589199,  6.0691004 ],\n",
       "       [-7.94611344, -8.04642814, -8.04705951, ...,  5.08013762,\n",
       "         5.34290885,  5.70589199]])"
      ]
     },
     "execution_count": 270,
     "metadata": {},
     "output_type": "execute_result"
    }
   ],
   "source": [
    "shifted_df_as_np = shifted_df.to_numpy()\n",
    "\n",
    "shifted_df_as_np"
   ]
  },
  {
   "cell_type": "code",
   "execution_count": 271,
   "metadata": {},
   "outputs": [
    {
     "data": {
      "text/plain": [
       "(9730, 401)"
      ]
     },
     "execution_count": 271,
     "metadata": {},
     "output_type": "execute_result"
    }
   ],
   "source": [
    "shifted_df_as_np.shape"
   ]
  },
  {
   "cell_type": "code",
   "execution_count": 272,
   "metadata": {},
   "outputs": [
    {
     "data": {
      "text/plain": [
       "array([[ 0.33839513,  0.3271877 ,  0.31599176, ..., -0.27099957,\n",
       "        -0.26485391, -0.25872013],\n",
       "       [ 0.34349236,  0.33839513,  0.3271877 , ..., -0.27715735,\n",
       "        -0.27099957, -0.26485391],\n",
       "       [ 0.35472386,  0.34349236,  0.33839513, ..., -0.27720537,\n",
       "        -0.27715735, -0.27099957],\n",
       "       ...,\n",
       "       [-0.45651937, -0.46269961, -0.4627774 , ...,  0.38544674,\n",
       "         0.40768263,  0.42381106],\n",
       "       [-0.45648071, -0.45651937, -0.46269961, ...,  0.36322463,\n",
       "         0.38544674,  0.40768263],\n",
       "       [-0.45033937, -0.45648071, -0.45651937, ...,  0.34713758,\n",
       "         0.36322463,  0.38544674]])"
      ]
     },
     "execution_count": 272,
     "metadata": {},
     "output_type": "execute_result"
    }
   ],
   "source": [
    "from sklearn.preprocessing import MinMaxScaler\n",
    "\n",
    "scaler = MinMaxScaler(feature_range=(-1, 1))\n",
    "shifted_df_as_np = scaler.fit_transform(shifted_df_as_np)\n",
    "\n",
    "shifted_df_as_np"
   ]
  },
  {
   "cell_type": "code",
   "execution_count": 273,
   "metadata": {},
   "outputs": [
    {
     "data": {
      "text/plain": [
       "((9730, 400), (9730,))"
      ]
     },
     "execution_count": 273,
     "metadata": {},
     "output_type": "execute_result"
    }
   ],
   "source": [
    "X = shifted_df_as_np[:, 1:]\n",
    "y = shifted_df_as_np[:, 0]\n",
    "\n",
    "X.shape, y.shape"
   ]
  },
  {
   "cell_type": "code",
   "execution_count": 274,
   "metadata": {},
   "outputs": [
    {
     "data": {
      "text/plain": [
       "array([[-0.25872013, -0.26485391, -0.27099957, ...,  0.31092901,\n",
       "         0.31599176,  0.3271877 ],\n",
       "       [-0.26485391, -0.27099957, -0.27715735, ...,  0.31599176,\n",
       "         0.3271877 ,  0.33839513],\n",
       "       [-0.27099957, -0.27715735, -0.27720537, ...,  0.3271877 ,\n",
       "         0.33839513,  0.34349236],\n",
       "       ...,\n",
       "       [ 0.42381106,  0.40768263,  0.38544674, ..., -0.46287489,\n",
       "        -0.4627774 , -0.46269961],\n",
       "       [ 0.40768263,  0.38544674,  0.36322463, ..., -0.4627774 ,\n",
       "        -0.46269961, -0.45651937],\n",
       "       [ 0.38544674,  0.36322463,  0.34713758, ..., -0.46269961,\n",
       "        -0.45651937, -0.45648071]])"
      ]
     },
     "execution_count": 274,
     "metadata": {},
     "output_type": "execute_result"
    }
   ],
   "source": [
    "X = dc(np.flip(X, axis=1))\n",
    "X"
   ]
  },
  {
   "cell_type": "code",
   "execution_count": 275,
   "metadata": {},
   "outputs": [
    {
     "data": {
      "text/plain": [
       "9243"
      ]
     },
     "execution_count": 275,
     "metadata": {},
     "output_type": "execute_result"
    }
   ],
   "source": [
    "split_index = int(len(X) * 0.95)\n",
    "\n",
    "split_index"
   ]
  },
  {
   "cell_type": "code",
   "execution_count": 276,
   "metadata": {},
   "outputs": [
    {
     "data": {
      "text/plain": [
       "((9243, 400), (487, 400), (9243,), (487,))"
      ]
     },
     "execution_count": 276,
     "metadata": {},
     "output_type": "execute_result"
    }
   ],
   "source": [
    "X_train = X[:split_index]\n",
    "X_test = X[split_index:]\n",
    "\n",
    "y_train = y[:split_index]\n",
    "y_test = y[split_index:]\n",
    "\n",
    "X_train.shape, X_test.shape, y_train.shape, y_test.shape"
   ]
  },
  {
   "cell_type": "code",
   "execution_count": 277,
   "metadata": {},
   "outputs": [
    {
     "data": {
      "text/plain": [
       "((9243, 400, 1), (487, 400, 1), (9243, 1), (487, 1))"
      ]
     },
     "execution_count": 277,
     "metadata": {},
     "output_type": "execute_result"
    }
   ],
   "source": [
    "X_train = X_train.reshape((-1, lookback, 1))\n",
    "X_test = X_test.reshape((-1, lookback, 1))\n",
    "\n",
    "y_train = y_train.reshape((-1, 1))\n",
    "y_test = y_test.reshape((-1, 1))\n",
    "\n",
    "X_train.shape, X_test.shape, y_train.shape, y_test.shape"
   ]
  },
  {
   "cell_type": "code",
   "execution_count": 278,
   "metadata": {},
   "outputs": [
    {
     "data": {
      "text/plain": [
       "(torch.Size([9243, 400, 1]),\n",
       " torch.Size([487, 400, 1]),\n",
       " torch.Size([9243, 1]),\n",
       " torch.Size([487, 1]))"
      ]
     },
     "execution_count": 278,
     "metadata": {},
     "output_type": "execute_result"
    }
   ],
   "source": [
    "X_train = torch.tensor(X_train).float()\n",
    "y_train = torch.tensor(y_train).float()\n",
    "X_test = torch.tensor(X_test).float()\n",
    "y_test = torch.tensor(y_test).float()\n",
    "\n",
    "X_train.shape, X_test.shape, y_train.shape, y_test.shape"
   ]
  },
  {
   "cell_type": "code",
   "execution_count": 279,
   "metadata": {},
   "outputs": [],
   "source": [
    "from torch.utils.data import Dataset\n",
    "\n",
    "class TimeSeriesDataset(Dataset):\n",
    "    def __init__(self, X, y):\n",
    "        self.X = X\n",
    "        self.y = y\n",
    "\n",
    "    def __len__(self):\n",
    "        return len(self.X)\n",
    "\n",
    "    def __getitem__(self, i):\n",
    "        return self.X[i], self.y[i]\n",
    "\n",
    "train_dataset = TimeSeriesDataset(X_train, y_train)\n",
    "test_dataset = TimeSeriesDataset(X_test, y_test)"
   ]
  },
  {
   "cell_type": "code",
   "execution_count": 280,
   "metadata": {},
   "outputs": [
    {
     "data": {
      "text/plain": [
       "<__main__.TimeSeriesDataset at 0x3a32b3e50>"
      ]
     },
     "execution_count": 280,
     "metadata": {},
     "output_type": "execute_result"
    }
   ],
   "source": [
    "train_dataset"
   ]
  },
  {
   "cell_type": "code",
   "execution_count": 281,
   "metadata": {},
   "outputs": [],
   "source": [
    "from torch.utils.data import DataLoader\n",
    "\n",
    "batch_size = 16\n",
    "\n",
    "train_loader = DataLoader(train_dataset, batch_size=batch_size, shuffle=True)\n",
    "test_loader = DataLoader(test_dataset, batch_size=batch_size, shuffle=False)"
   ]
  },
  {
   "cell_type": "code",
   "execution_count": 282,
   "metadata": {},
   "outputs": [
    {
     "name": "stdout",
     "output_type": "stream",
     "text": [
      "torch.Size([16, 400, 1]) torch.Size([16, 1])\n"
     ]
    }
   ],
   "source": [
    "for _, batch in enumerate(train_loader):\n",
    "    x_batch, y_batch = batch[0].to(device), batch[1].to(device)\n",
    "    print(x_batch.shape, y_batch.shape)\n",
    "    break"
   ]
  },
  {
   "cell_type": "code",
   "execution_count": 283,
   "metadata": {},
   "outputs": [
    {
     "data": {
      "text/plain": [
       "'cpu'"
      ]
     },
     "execution_count": 283,
     "metadata": {},
     "output_type": "execute_result"
    }
   ],
   "source": [
    "device = 'cuda:0' if torch.cuda.is_available() else 'cpu'\n",
    "device"
   ]
  },
  {
   "cell_type": "code",
   "execution_count": 284,
   "metadata": {},
   "outputs": [
    {
     "data": {
      "text/plain": [
       "LSTM(\n",
       "  (lstm): LSTM(1, 4, batch_first=True)\n",
       "  (fc): Linear(in_features=4, out_features=1, bias=True)\n",
       ")"
      ]
     },
     "execution_count": 284,
     "metadata": {},
     "output_type": "execute_result"
    }
   ],
   "source": [
    "class LSTM(nn.Module):\n",
    "    def __init__(self, input_size, hidden_size, num_stacked_layers):\n",
    "        super().__init__()\n",
    "        self.hidden_size = hidden_size\n",
    "        self.num_stacked_layers = num_stacked_layers\n",
    "\n",
    "        self.lstm = nn.LSTM(input_size, hidden_size, num_stacked_layers,\n",
    "                            batch_first=True)\n",
    "\n",
    "        self.fc = nn.Linear(hidden_size, 1)\n",
    "\n",
    "    def forward(self, x):\n",
    "        batch_size = x.size(0)\n",
    "        h0 = torch.zeros(self.num_stacked_layers, batch_size, self.hidden_size).to(device)\n",
    "        c0 = torch.zeros(self.num_stacked_layers, batch_size, self.hidden_size).to(device)\n",
    "\n",
    "        out, _ = self.lstm(x, (h0, c0))\n",
    "        out = self.fc(out[:, -1, :])\n",
    "        return out\n",
    "\n",
    "model = LSTM(1, 4, 1)\n",
    "model.to(device)\n",
    "model"
   ]
  },
  {
   "cell_type": "code",
   "execution_count": 285,
   "metadata": {},
   "outputs": [],
   "source": [
    "def train_one_epoch():\n",
    "    model.train(True)\n",
    "    print(f'Epoch: {epoch + 1}')\n",
    "    running_loss = 0.0\n",
    "\n",
    "    for batch_index, batch in enumerate(train_loader):\n",
    "        x_batch, y_batch = batch[0].to(device), batch[1].to(device)\n",
    "\n",
    "        output = model(x_batch)\n",
    "        loss = loss_function(output, y_batch)\n",
    "        running_loss += loss.item()\n",
    "\n",
    "        optimizer.zero_grad()\n",
    "        loss.backward()\n",
    "        optimizer.step()\n",
    "\n",
    "        if batch_index % 100 == 99:  # print every 100 batches\n",
    "            avg_loss_across_batches = running_loss / 100\n",
    "            print('Batch {0}, Loss: {1:.3f}'.format(batch_index+1,\n",
    "                                                    avg_loss_across_batches))\n",
    "            running_loss = 0.0\n",
    "    print()"
   ]
  },
  {
   "cell_type": "code",
   "execution_count": 286,
   "metadata": {},
   "outputs": [],
   "source": [
    "def validate_one_epoch():\n",
    "    model.train(False)\n",
    "    running_loss = 0.0\n",
    "\n",
    "    for batch_index, batch in enumerate(test_loader):\n",
    "        x_batch, y_batch = batch[0].to(device), batch[1].to(device)\n",
    "\n",
    "        with torch.no_grad():\n",
    "            output = model(x_batch)\n",
    "            loss = loss_function(output, y_batch)\n",
    "            running_loss += loss.item()\n",
    "\n",
    "    avg_loss_across_batches = running_loss / len(test_loader)\n",
    "\n",
    "    print('Val Loss: {0:.3f}'.format(avg_loss_across_batches))\n",
    "    print('***************************************************')\n",
    "    print()"
   ]
  },
  {
   "cell_type": "code",
   "execution_count": 288,
   "metadata": {},
   "outputs": [
    {
     "name": "stdout",
     "output_type": "stream",
     "text": [
      "Epoch: 1\n",
      "Batch 100, Loss: 0.000\n",
      "Batch 200, Loss: 0.000\n",
      "Batch 300, Loss: 0.000\n",
      "Batch 400, Loss: 0.000\n",
      "Batch 500, Loss: 0.000\n",
      "\n",
      "Val Loss: 0.000\n",
      "***************************************************\n",
      "\n",
      "Epoch: 2\n",
      "Batch 100, Loss: 0.000\n",
      "Batch 200, Loss: 0.000\n",
      "Batch 300, Loss: 0.000\n",
      "Batch 400, Loss: 0.000\n",
      "Batch 500, Loss: 0.000\n",
      "\n",
      "Val Loss: 0.000\n",
      "***************************************************\n",
      "\n"
     ]
    }
   ],
   "source": [
    "learning_rate = 0.01\n",
    "num_epochs = 2\n",
    "loss_function = nn.MSELoss()\n",
    "optimizer = torch.optim.Adam(model.parameters(), lr=learning_rate)\n",
    "\n",
    "for epoch in range(num_epochs):\n",
    "    train_one_epoch()\n",
    "    validate_one_epoch()"
   ]
  },
  {
   "cell_type": "code",
   "execution_count": 289,
   "metadata": {},
   "outputs": [
    {
     "data": {
      "image/png": "[encoded data removed]",
      "text/plain": [
       "<Figure size 640x480 with 1 Axes>"
      ]
     },
     "metadata": {},
     "output_type": "display_data"
    }
   ],
   "source": [
    "with torch.no_grad():\n",
    "    predicted = model(X_train.to(device)).to('cpu').numpy()\n",
    "\n",
    "plt.plot(y_train, label='Actual Pressure')\n",
    "plt.plot(predicted, label='Predicted Pressure')\n",
    "plt.xlabel('Time')\n",
    "plt.ylabel('Presure')\n",
    "plt.legend()\n",
    "plt.show()\n"
   ]
  },
  {
   "cell_type": "code",
   "execution_count": null,
   "metadata": {},
   "outputs": [],
   "source": [
    "#https://towardsdatascience.com/exploring-the-lstm-neural-network-model-for-time-series-8b7685aa8cf\n",
    "\n",
    "#another more simple way"
   ]
  },
  {
   "cell_type": "code",
   "execution_count": 262,
   "metadata": {},
   "outputs": [
    {
     "ename": "ValueError",
     "evalue": "numpy.dtype size changed, may indicate binary incompatibility. Expected 96 from C header, got 88 from PyObject",
     "output_type": "error",
     "traceback": [
      "\u001b[0;31m---------------------------------------------------------------------------\u001b[0m",
      "\u001b[0;31mValueError\u001b[0m                                Traceback (most recent call last)",
      "Cell \u001b[0;32mIn[262], line 8\u001b[0m\n\u001b[1;32m      6\u001b[0m \u001b[38;5;28;01mimport\u001b[39;00m \u001b[38;5;21;01mseaborn\u001b[39;00m \u001b[38;5;28;01mas\u001b[39;00m \u001b[38;5;21;01msns\u001b[39;00m\n\u001b[1;32m      7\u001b[0m \u001b[38;5;28;01mimport\u001b[39;00m \u001b[38;5;21;01mmatplotlib\u001b[39;00m\u001b[38;5;21;01m.\u001b[39;00m\u001b[38;5;21;01mpyplot\u001b[39;00m \u001b[38;5;28;01mas\u001b[39;00m \u001b[38;5;21;01mplt\u001b[39;00m\n\u001b[0;32m----> 8\u001b[0m \u001b[38;5;28;01mfrom\u001b[39;00m \u001b[38;5;21;01mscalecast\u001b[39;00m\u001b[38;5;21;01m.\u001b[39;00m\u001b[38;5;21;01mForecaster\u001b[39;00m \u001b[38;5;28;01mimport\u001b[39;00m Forecaster\n\u001b[1;32m     10\u001b[0m \u001b[38;5;66;03m# df = pd.DataFrame({\"pressure\":all_data_recordings[0]})\u001b[39;00m\n",
      "File \u001b[0;32m~/Library/Python/3.9/lib/python/site-packages/scalecast/__init__.py:9\u001b[0m\n\u001b[1;32m      7\u001b[0m \u001b[38;5;28;01mfrom\u001b[39;00m \u001b[38;5;21;01mxgboost\u001b[39;00m \u001b[38;5;28;01mimport\u001b[39;00m XGBRegressor\n\u001b[1;32m      8\u001b[0m \u001b[38;5;28;01mfrom\u001b[39;00m \u001b[38;5;21;01mlightgbm\u001b[39;00m \u001b[38;5;28;01mimport\u001b[39;00m LGBMRegressor\n\u001b[0;32m----> 9\u001b[0m \u001b[38;5;28;01mfrom\u001b[39;00m \u001b[38;5;21;01mcatboost\u001b[39;00m \u001b[38;5;28;01mimport\u001b[39;00m CatBoostRegressor\n\u001b[1;32m     10\u001b[0m \u001b[38;5;28;01mfrom\u001b[39;00m \u001b[38;5;21;01msklearn\u001b[39;00m\u001b[38;5;21;01m.\u001b[39;00m\u001b[38;5;21;01msvm\u001b[39;00m \u001b[38;5;28;01mimport\u001b[39;00m SVR\n\u001b[1;32m     11\u001b[0m \u001b[38;5;28;01mfrom\u001b[39;00m \u001b[38;5;21;01msklearn\u001b[39;00m\u001b[38;5;21;01m.\u001b[39;00m\u001b[38;5;21;01mneighbors\u001b[39;00m \u001b[38;5;28;01mimport\u001b[39;00m KNeighborsRegressor\n",
      "File \u001b[0;32m~/Library/Python/3.9/lib/python/site-packages/catboost/__init__.py:1\u001b[0m\n\u001b[0;32m----> 1\u001b[0m \u001b[38;5;28;01mfrom\u001b[39;00m \u001b[38;5;21;01m.\u001b[39;00m\u001b[38;5;21;01mcore\u001b[39;00m \u001b[38;5;28;01mimport\u001b[39;00m (\n\u001b[1;32m      2\u001b[0m     FeaturesData, EFstrType, EShapCalcType, EFeaturesSelectionAlgorithm, EFeaturesSelectionGrouping,\n\u001b[1;32m      3\u001b[0m     Pool, CatBoost, CatBoostClassifier, CatBoostRegressor, CatBoostRanker, CatBoostError, cv, sample_gaussian_process, train,\n\u001b[1;32m      4\u001b[0m     sum_models, _have_equal_features, to_regressor, to_classifier, to_ranker, MultiRegressionCustomMetric,\n\u001b[1;32m      5\u001b[0m     MultiRegressionCustomObjective, MultiTargetCustomMetric, MultiTargetCustomObjective\n\u001b[1;32m      6\u001b[0m )  \u001b[38;5;66;03m# noqa\u001b[39;00m\n\u001b[1;32m      7\u001b[0m \u001b[38;5;28;01mfrom\u001b[39;00m \u001b[38;5;21;01m.\u001b[39;00m\u001b[38;5;21;01mversion\u001b[39;00m \u001b[38;5;28;01mimport\u001b[39;00m VERSION \u001b[38;5;28;01mas\u001b[39;00m __version__  \u001b[38;5;66;03m# noqa\u001b[39;00m\n\u001b[1;32m      8\u001b[0m __all__ \u001b[38;5;241m=\u001b[39m [\n\u001b[1;32m      9\u001b[0m     \u001b[38;5;124m'\u001b[39m\u001b[38;5;124mFeaturesData\u001b[39m\u001b[38;5;124m'\u001b[39m, \u001b[38;5;124m'\u001b[39m\u001b[38;5;124mEFstrType\u001b[39m\u001b[38;5;124m'\u001b[39m, \u001b[38;5;124m'\u001b[39m\u001b[38;5;124mEShapCalcType\u001b[39m\u001b[38;5;124m'\u001b[39m, \u001b[38;5;124m'\u001b[39m\u001b[38;5;124mEFeaturesSelectionAlgorithm\u001b[39m\u001b[38;5;124m'\u001b[39m, \u001b[38;5;124m'\u001b[39m\u001b[38;5;124mEFeaturesSelectionGrouping\u001b[39m\u001b[38;5;124m'\u001b[39m,\n\u001b[1;32m     10\u001b[0m     \u001b[38;5;124m'\u001b[39m\u001b[38;5;124mPool\u001b[39m\u001b[38;5;124m'\u001b[39m, \u001b[38;5;124m'\u001b[39m\u001b[38;5;124mCatBoost\u001b[39m\u001b[38;5;124m'\u001b[39m, \u001b[38;5;124m'\u001b[39m\u001b[38;5;124mCatBoostClassifier\u001b[39m\u001b[38;5;124m'\u001b[39m, \u001b[38;5;124m'\u001b[39m\u001b[38;5;124mCatBoostRegressor\u001b[39m\u001b[38;5;124m'\u001b[39m, \u001b[38;5;124m'\u001b[39m\u001b[38;5;124mCatBoostRanker\u001b[39m\u001b[38;5;124m'\u001b[39m, \u001b[38;5;124m'\u001b[39m\u001b[38;5;124mCatboostError\u001b[39m\u001b[38;5;124m'\u001b[39m,\n\u001b[0;32m   (...)\u001b[0m\n\u001b[1;32m     13\u001b[0m     \u001b[38;5;124m'\u001b[39m\u001b[38;5;124mMultiTargetCustomMetric\u001b[39m\u001b[38;5;124m'\u001b[39m, \u001b[38;5;124m'\u001b[39m\u001b[38;5;124mMultiTargetCustomObjective\u001b[39m\u001b[38;5;124m'\u001b[39m\n\u001b[1;32m     14\u001b[0m ]\n",
      "File \u001b[0;32m~/Library/Python/3.9/lib/python/site-packages/catboost/core.py:45\u001b[0m\n\u001b[1;32m     40\u001b[0m         \u001b[38;5;28;01mpass\u001b[39;00m\n\u001b[1;32m     42\u001b[0m \u001b[38;5;28;01mimport\u001b[39;00m \u001b[38;5;21;01mscipy\u001b[39;00m\u001b[38;5;21;01m.\u001b[39;00m\u001b[38;5;21;01msparse\u001b[39;00m\n\u001b[0;32m---> 45\u001b[0m \u001b[38;5;28;01mfrom\u001b[39;00m \u001b[38;5;21;01m.\u001b[39;00m\u001b[38;5;21;01mplot_helpers\u001b[39;00m \u001b[38;5;28;01mimport\u001b[39;00m save_plot_file, try_plot_offline, OfflineMetricVisualizer\n\u001b[1;32m     46\u001b[0m \u001b[38;5;28;01mfrom\u001b[39;00m \u001b[38;5;21;01m.\u001b[39;00m \u001b[38;5;28;01mimport\u001b[39;00m _catboost\n\u001b[1;32m     47\u001b[0m \u001b[38;5;28;01mfrom\u001b[39;00m \u001b[38;5;21;01m.\u001b[39;00m\u001b[38;5;21;01mmetrics\u001b[39;00m \u001b[38;5;28;01mimport\u001b[39;00m BuiltinMetric\n",
      "File \u001b[0;32m~/Library/Python/3.9/lib/python/site-packages/catboost/plot_helpers.py:5\u001b[0m\n\u001b[1;32m      2\u001b[0m \u001b[38;5;28;01mimport\u001b[39;00m \u001b[38;5;21;01mos\u001b[39;00m\n\u001b[1;32m      3\u001b[0m \u001b[38;5;28;01mimport\u001b[39;00m \u001b[38;5;21;01mwarnings\u001b[39;00m\n\u001b[0;32m----> 5\u001b[0m \u001b[38;5;28;01mfrom\u001b[39;00m \u001b[38;5;21;01m.\u001b[39;00m \u001b[38;5;28;01mimport\u001b[39;00m _catboost\n\u001b[1;32m      6\u001b[0m fspath \u001b[38;5;241m=\u001b[39m _catboost\u001b[38;5;241m.\u001b[39mfspath\n\u001b[1;32m      9\u001b[0m \u001b[38;5;28;01mdef\u001b[39;00m \u001b[38;5;21mtry_plot_offline\u001b[39m(figs):\n",
      "File \u001b[0;32m_catboost.pyx:1\u001b[0m, in \u001b[0;36minit _catboost\u001b[0;34m()\u001b[0m\n",
      "\u001b[0;31mValueError\u001b[0m: numpy.dtype size changed, may indicate binary incompatibility. Expected 96 from C header, got 88 from PyObject"
     ]
    }
   ],
   "source": [
    "#https://towardsdatascience.com/exploring-the-lstm-neural-network-model-for-time-series-8b7685aa8cf\n",
    "\n",
    "import pandas as pd\n",
    "import numpy as np\n",
    "import pickle\n",
    "import seaborn as sns\n",
    "import matplotlib.pyplot as plt\n",
    "from scalecast.Forecaster import Forecaster\n",
    "\n",
    "# df = pd.DataFrame({\"pressure\":all_data_recordings[0]})"
   ]
  },
  {
   "cell_type": "code",
   "execution_count": 253,
   "metadata": {},
   "outputs": [
    {
     "ename": "NameError",
     "evalue": "name 'Forecaster' is not defined",
     "output_type": "error",
     "traceback": [
      "\u001b[0;31m---------------------------------------------------------------------------\u001b[0m",
      "\u001b[0;31mNameError\u001b[0m                                 Traceback (most recent call last)",
      "Cell \u001b[0;32mIn[253], line 1\u001b[0m\n\u001b[0;32m----> 1\u001b[0m f \u001b[38;5;241m=\u001b[39m \u001b[43mForecaster\u001b[49m(\n\u001b[1;32m      2\u001b[0m  \n\u001b[1;32m      3\u001b[0m   current_dates\u001b[38;5;241m=\u001b[39mdf[\u001b[38;5;124m\"\u001b[39m\u001b[38;5;124mpressure\u001b[39m\u001b[38;5;124m\"\u001b[39m]\n\u001b[1;32m      4\u001b[0m  )\n\u001b[1;32m      5\u001b[0m f\n",
      "\u001b[0;31mNameError\u001b[0m: name 'Forecaster' is not defined"
     ]
    }
   ],
   "source": [
    "f = Forecaster(\n",
    " \n",
    "  current_dates=df[\"pressure\"]\n",
    " )\n",
    "f\n"
   ]
  },
  {
   "cell_type": "code",
   "execution_count": null,
   "metadata": {},
   "outputs": [],
   "source": []
  }
 ],
 "metadata": {
  "kernelspec": {
   "display_name": "Python 3",
   "language": "python",
   "name": "python3"
  },
  "language_info": {
   "codemirror_mode": {
    "name": "ipython",
    "version": 3
   },
   "file_extension": ".py",
   "mimetype": "text/x-python",
   "name": "python",
   "nbconvert_exporter": "python",
   "pygments_lexer": "ipython3",
   "version": "3.9.6"
  }
 },
 "nbformat": 4,
 "nbformat_minor": 2
}
