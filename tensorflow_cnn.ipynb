{
 "cells": [
  {
   "cell_type": "markdown",
   "metadata": {},
   "source": [
    "This is based off of someones code to analysis music type\n",
    "\n",
    "#https://github.com/Harbim001/Analysing_Nigerian_Music_Growth_Globally/blob/main/analysing_nigerian_music_growth_globally%20(1).py\n"
   ]
  },
  {
   "cell_type": "code",
   "execution_count": 614,
   "metadata": {},
   "outputs": [],
   "source": [
    "import matplotlib.pyplot as plt\n",
    "import numpy as np\n",
    "import seaborn as sns\n",
    "\n",
    "from sklearn.model_selection import train_test_split\n",
    "from sklearn.preprocessing import LabelEncoder, StandardScaler\n",
    "from tensorflow.keras.models import Sequential\n",
    "from tensorflow.keras.layers import Dense, Dropout, Conv1D, GlobalMaxPooling1D,ConvLSTM1D, MaxPooling1D\n",
    "from tensorflow.keras.optimizers import Adam, RMSprop\n",
    "from tensorflow.keras.utils import to_categorical\n",
    "from sklearn.metrics import mean_absolute_error, r2_score, root_mean_squared_error\n",
    "\n",
    "import pickle\n",
    "\n",
    "import pandas as pd\n",
    "from pathlib import Path\n",
    "\n",
    "path_to_dictionary_all_50 = \"/Users/cslinxs/Desktop/all_weeks/summer24-lab/measurements_auscultatory_dictionary_ALL.pkl\"\n",
    "\n",
    "# Getting the Pikel file has the 50 point segmented\n",
    "with open(path_to_dictionary_all_50, 'rb') as handle:\n",
    "    all_auscultatory_50_segmented = pickle.load(handle)\n",
    "\n",
    "# Some lists are filled with nans would be better to remove them\n",
    "auscultatory_keys_with_nulls = []\n",
    "for key, each_grouping in all_auscultatory_50_segmented.items():\n",
    "    if True in list(np.isnan(each_grouping[0])):\n",
    "        auscultatory_keys_with_nulls.append(key)\n",
    "for key in auscultatory_keys_with_nulls:\n",
    "    del all_auscultatory_50_segmented[key]\n",
    "\n",
    "\n",
    "# Grouping people by their person ID\n",
    "auscultatory_data_grouped_by_pid = {}\n",
    "for key, each_grouping in list(all_auscultatory_50_segmented.items()):\n",
    "    person_id = key.split(\"_\")[1].split(\"/\")[1]\n",
    "    if not(person_id in auscultatory_data_grouped_by_pid):\n",
    "        auscultatory_data_grouped_by_pid[person_id] = []\n",
    "    auscultatory_data_grouped_by_pid[person_id].append({key: each_grouping})\n",
    "         \n"
   ]
  },
  {
   "cell_type": "markdown",
   "metadata": {},
   "source": [
    "First im going to split ppl if they have hyper tension or not"
   ]
  },
  {
   "cell_type": "code",
   "execution_count": 679,
   "metadata": {},
   "outputs": [],
   "source": [
    "# This gets the person\n",
    "path_aurora_dataset = Path('/Users/cslinxs/Desktop/aurora_dataset/aurora_dataset/')\n",
    "\n",
    "# This is getting the PID of ppl with Hypertenstion\n",
    "participants_data =  path_aurora_dataset / \"participants.tsv\"\n",
    "participants_csv_data = pd.read_csv(participants_data,sep = '\\t')\n",
    "participants_csv_htn = participants_csv_data[participants_csv_data[\"self_report_htn\"].isin([\"managed\",\"unmanaged\"])]\n",
    "participants_csv_htn = participants_csv_htn[participants_csv_htn[\"pid\"].str.contains('a')]\n",
    "people_htn = participants_csv_htn[\"pid\"]\n",
    "people_htn\n",
    "\n",
    "keys_for_grouping = [\n",
    "\"Calibration_start\",#0\n",
    "\"Static_challenge_start\",#1\n",
    "\"Seated_calibration\",#2\n",
    "\"Static_seated_challenge\",#3\n",
    "\"Exercise_challenge_start\",#4\n",
    "\"Temporal_challenge_start\",#5\n",
    "\"Temporal_seated_challenge\"]#6\n",
    "current_activity_key_used  = 0\n",
    "\n",
    " \n",
    "def get_person_data(PID):\n",
    "    return ([([each_data[0] for each_data in item.values()]) for item in auscultatory_data_grouped_by_pid[PID]], [([each_data[1] for each_data in item.values()][0]) for item in auscultatory_data_grouped_by_pid[PID]], [item.keys() for item in auscultatory_data_grouped_by_pid[PID]])\n",
    "\n",
    "# This groups people by a feature\n",
    "def get_person_data_group(diction, identifier):\n",
    "    return ([([each_data[0] for each_data in item.values()]) for item in diction[identifier]], [([each_data[1] for each_data in item.values()][0]) for item in diction[identifier]], [item.keys() for item in diction[identifier]])\n",
    "\n",
    "def get_person_split_data(dictionary_with_people):\n",
    "    return ([item[0] for item in dictionary_with_people],[item[1] for item in dictionary_with_people],[item[2] for item in dictionary_with_people])\n",
    "\n",
    "def get_people_with_hypertenstion():\n",
    "    hyperstion_people = []\n",
    "    non_hypertension_people = []\n",
    "    all_people_charts = []\n",
    "    for key, each_grouping in list(all_auscultatory_50_segmented.items()):\n",
    "\n",
    "        if keys_for_grouping[current_activity_key_used] in key:\n",
    "\n",
    "            person_id = key.split(\"_\")[1].split(\"/\")[1]\n",
    "            if person_id in list(people_htn):\n",
    "                hyperstion_people.append(each_grouping)\n",
    "            else:\n",
    "                non_hypertension_people.append(each_grouping)\n",
    "            all_people_charts.append(each_grouping)\n",
    "            \n",
    "    return (hyperstion_people, non_hypertension_people, all_people_charts)\n"
   ]
  },
  {
   "cell_type": "code",
   "execution_count": 680,
   "metadata": {},
   "outputs": [],
   "source": [
    "people_with_hypertenstion = get_people_with_hypertenstion()[0]\n",
    "people_with_out_hypertenstion = get_people_with_hypertenstion()[1]\n",
    "all_people_data = get_people_with_hypertenstion()[2]\n",
    "\n",
    "X = get_person_split_data(all_people_data)[0]\n",
    "y = np.array(get_person_split_data(all_people_data)[1])\n",
    "\n",
    "\n",
    "X1 = get_person_split_data(people_with_out_hypertenstion)[0]\n",
    "y1 = np.array(get_person_split_data(people_with_out_hypertenstion)[1])\n"
   ]
  },
  {
   "cell_type": "code",
   "execution_count": 681,
   "metadata": {},
   "outputs": [
    {
     "name": "stdout",
     "output_type": "stream",
     "text": [
      "(1991, 50)\n"
     ]
    }
   ],
   "source": [
    "scaler = StandardScaler()\n",
    "X = scaler.fit_transform(X)\n",
    "print(X.shape)\n",
    "\n"
   ]
  },
  {
   "cell_type": "code",
   "execution_count": 682,
   "metadata": {},
   "outputs": [],
   "source": [
    "# label_encoder = LabelEncoder()\n",
    "# y = label_encoder.fit_transform(y)\n",
    "# y = to_categorical(y)"
   ]
  },
  {
   "cell_type": "code",
   "execution_count": 683,
   "metadata": {},
   "outputs": [
    {
     "name": "stdout",
     "output_type": "stream",
     "text": [
      "(1592, 1)\n"
     ]
    }
   ],
   "source": [
    "X_train, X_test, y_train, y_test = train_test_split(X, y, test_size=0.2, random_state=42)\n",
    "print(y_train.shape)"
   ]
  },
  {
   "cell_type": "code",
   "execution_count": 684,
   "metadata": {},
   "outputs": [],
   "source": [
    "# X_train = np.expand_dims(X_train, axis=2)\n",
    "# X_test = np.expand_dims(X_test, axis=2)\n"
   ]
  },
  {
   "cell_type": "code",
   "execution_count": 687,
   "metadata": {},
   "outputs": [],
   "source": [
    "def create_model():\n",
    "\n",
    "\n",
    "    model = Sequential()\n",
    "   \n",
    "    #model.add(Conv1D(32, kernel_size=10, strides=10, activation='relu' ))\n",
    "    model.add(Conv1D(2, kernel_size=3, activation='relu', ))# input_shape=(X_train.shape[1], 1)))\n",
    "\n",
    "    # model.add(Conv1D(64, kernel_size=3, activation='relu', input_shape=(X_train.shape[1], 1)))\n",
    "    # model.add(Conv1D(128, kernel_size=3, activation='relu'))\n",
    "    # model.add(Conv1D(1, kernel_size=3, activation='relu',use_bias=False ))\n",
    "    # model.add(Conv1D(128, kernel_size=3, activation='relu',use_bias=False))\n",
    "    # model.add(Conv1D(256, kernel_size=3, activation='relu',use_bias=False))\n",
    "    # model.add(Conv1D(512, kernel_size=3, activation='relu',use_bias=False))\n",
    "\n",
    "\n",
    "    # model.add(Conv1D(64, kernel_size=3, strides=3, activation='relu',use_bias=False ))\n",
    "    # model.add(Conv1D(128, kernel_size=3, strides=3, activation='relu',use_bias=False))\n",
    "    # model.add(Conv1D(256, kernel_size=3, strides=3, activation='relu',use_bias=False))\n",
    "    # model.add(Conv1D(512, kernel_size=3, strides=3, activation='relu',use_bias=False))\n",
    "    # model.add(Conv1D(1, kernel_size=3, activation='relu'))\n",
    "    # model.add(Conv1D(1, kernel_size=2, activation='relu'))\n",
    "    # model.add(Conv1D(1, kernel_size=2, activation='relu'))\n",
    "   \n",
    "\n",
    "\n",
    "    # model.add(GlobalMaxPooling1D())\n",
    "    # # model.add(Dense(2, activation='relu'))\n",
    "    # model.add(Dropout(0.5))\n",
    "\n",
    "    model.add(Dropout(0.5))\n",
    "    model.add(MaxPooling1D(pool_size=2))\n",
    "    # # # model.add(Flatten())\n",
    "    # model.add(Dense(1, activation='relu'))\n",
    "    \n",
    "    # model.add(Dense(y_train.shape[1], activation='softmax'))\n",
    "    #model.add(Dense(181, activation='softmax'))\n",
    "    # model.compile(optimizer=Adam(learning_rate=0.001), loss='categorical_crossentropy', metrics=['accuracy'])\n",
    "    optimizer = RMSprop(0.001)\n",
    "\n",
    "    model.compile(loss='mse',\n",
    "                optimizer=optimizer,\n",
    "                metrics=['mae'])\n",
    "\n",
    "    return model\n",
    "\n"
   ]
  },
  {
   "cell_type": "markdown",
   "metadata": {},
   "source": []
  },
  {
   "cell_type": "code",
   "execution_count": 688,
   "metadata": {},
   "outputs": [
    {
     "name": "stdout",
     "output_type": "stream",
     "text": [
      "Epoch 1/50\n"
     ]
    },
    {
     "ename": "ValueError",
     "evalue": "Input 0 of layer \"conv1d_378\" is incompatible with the layer: expected min_ndim=3, found ndim=2. Full shape received: (None, 50)",
     "output_type": "error",
     "traceback": [
      "\u001b[0;31m---------------------------------------------------------------------------\u001b[0m",
      "\u001b[0;31mValueError\u001b[0m                                Traceback (most recent call last)",
      "Cell \u001b[0;32mIn[688], line 2\u001b[0m\n\u001b[1;32m      1\u001b[0m model \u001b[38;5;241m=\u001b[39m create_model()\n\u001b[0;32m----> 2\u001b[0m history \u001b[38;5;241m=\u001b[39m \u001b[43mmodel\u001b[49m\u001b[38;5;241;43m.\u001b[39;49m\u001b[43mfit\u001b[49m\u001b[43m(\u001b[49m\u001b[43mX_train\u001b[49m\u001b[43m,\u001b[49m\u001b[43m \u001b[49m\u001b[43my_train\u001b[49m\u001b[43m,\u001b[49m\u001b[43m \u001b[49m\u001b[43mepochs\u001b[49m\u001b[38;5;241;43m=\u001b[39;49m\u001b[38;5;241;43m50\u001b[39;49m\u001b[43m,\u001b[49m\u001b[43m \u001b[49m\u001b[43mvalidation_split\u001b[49m\u001b[38;5;241;43m=\u001b[39;49m\u001b[38;5;241;43m0.3\u001b[39;49m\u001b[43m)\u001b[49m\n\u001b[1;32m      3\u001b[0m model\u001b[38;5;241m.\u001b[39msummary()\n\u001b[1;32m      4\u001b[0m test_loss, test_accuracy \u001b[38;5;241m=\u001b[39m model\u001b[38;5;241m.\u001b[39mevaluate(X_test, y_test)\n",
      "File \u001b[0;32m~/Library/Python/3.9/lib/python/site-packages/keras/src/utils/traceback_utils.py:122\u001b[0m, in \u001b[0;36mfilter_traceback.<locals>.error_handler\u001b[0;34m(*args, **kwargs)\u001b[0m\n\u001b[1;32m    119\u001b[0m     filtered_tb \u001b[38;5;241m=\u001b[39m _process_traceback_frames(e\u001b[38;5;241m.\u001b[39m__traceback__)\n\u001b[1;32m    120\u001b[0m     \u001b[38;5;66;03m# To get the full stack trace, call:\u001b[39;00m\n\u001b[1;32m    121\u001b[0m     \u001b[38;5;66;03m# `keras.config.disable_traceback_filtering()`\u001b[39;00m\n\u001b[0;32m--> 122\u001b[0m     \u001b[38;5;28;01mraise\u001b[39;00m e\u001b[38;5;241m.\u001b[39mwith_traceback(filtered_tb) \u001b[38;5;28;01mfrom\u001b[39;00m \u001b[38;5;28;01mNone\u001b[39;00m\n\u001b[1;32m    123\u001b[0m \u001b[38;5;28;01mfinally\u001b[39;00m:\n\u001b[1;32m    124\u001b[0m     \u001b[38;5;28;01mdel\u001b[39;00m filtered_tb\n",
      "File \u001b[0;32m~/Library/Python/3.9/lib/python/site-packages/keras/src/layers/input_spec.py:202\u001b[0m, in \u001b[0;36massert_input_compatibility\u001b[0;34m(input_spec, inputs, layer_name)\u001b[0m\n\u001b[1;32m    200\u001b[0m \u001b[38;5;28;01mif\u001b[39;00m spec\u001b[38;5;241m.\u001b[39mmin_ndim \u001b[38;5;129;01mis\u001b[39;00m \u001b[38;5;129;01mnot\u001b[39;00m \u001b[38;5;28;01mNone\u001b[39;00m:\n\u001b[1;32m    201\u001b[0m     \u001b[38;5;28;01mif\u001b[39;00m ndim \u001b[38;5;129;01mis\u001b[39;00m \u001b[38;5;129;01mnot\u001b[39;00m \u001b[38;5;28;01mNone\u001b[39;00m \u001b[38;5;129;01mand\u001b[39;00m ndim \u001b[38;5;241m<\u001b[39m spec\u001b[38;5;241m.\u001b[39mmin_ndim:\n\u001b[0;32m--> 202\u001b[0m         \u001b[38;5;28;01mraise\u001b[39;00m \u001b[38;5;167;01mValueError\u001b[39;00m(\n\u001b[1;32m    203\u001b[0m             \u001b[38;5;124mf\u001b[39m\u001b[38;5;124m'\u001b[39m\u001b[38;5;124mInput \u001b[39m\u001b[38;5;132;01m{\u001b[39;00minput_index\u001b[38;5;132;01m}\u001b[39;00m\u001b[38;5;124m of layer \u001b[39m\u001b[38;5;124m\"\u001b[39m\u001b[38;5;132;01m{\u001b[39;00mlayer_name\u001b[38;5;132;01m}\u001b[39;00m\u001b[38;5;124m\"\u001b[39m\u001b[38;5;124m \u001b[39m\u001b[38;5;124m'\u001b[39m\n\u001b[1;32m    204\u001b[0m             \u001b[38;5;124m\"\u001b[39m\u001b[38;5;124mis incompatible with the layer: \u001b[39m\u001b[38;5;124m\"\u001b[39m\n\u001b[1;32m    205\u001b[0m             \u001b[38;5;124mf\u001b[39m\u001b[38;5;124m\"\u001b[39m\u001b[38;5;124mexpected min_ndim=\u001b[39m\u001b[38;5;132;01m{\u001b[39;00mspec\u001b[38;5;241m.\u001b[39mmin_ndim\u001b[38;5;132;01m}\u001b[39;00m\u001b[38;5;124m, \u001b[39m\u001b[38;5;124m\"\u001b[39m\n\u001b[1;32m    206\u001b[0m             \u001b[38;5;124mf\u001b[39m\u001b[38;5;124m\"\u001b[39m\u001b[38;5;124mfound ndim=\u001b[39m\u001b[38;5;132;01m{\u001b[39;00mndim\u001b[38;5;132;01m}\u001b[39;00m\u001b[38;5;124m. \u001b[39m\u001b[38;5;124m\"\u001b[39m\n\u001b[1;32m    207\u001b[0m             \u001b[38;5;124mf\u001b[39m\u001b[38;5;124m\"\u001b[39m\u001b[38;5;124mFull shape received: \u001b[39m\u001b[38;5;132;01m{\u001b[39;00mshape\u001b[38;5;132;01m}\u001b[39;00m\u001b[38;5;124m\"\u001b[39m\n\u001b[1;32m    208\u001b[0m         )\n\u001b[1;32m    209\u001b[0m \u001b[38;5;66;03m# Check dtype.\u001b[39;00m\n\u001b[1;32m    210\u001b[0m \u001b[38;5;28;01mif\u001b[39;00m spec\u001b[38;5;241m.\u001b[39mdtype \u001b[38;5;129;01mis\u001b[39;00m \u001b[38;5;129;01mnot\u001b[39;00m \u001b[38;5;28;01mNone\u001b[39;00m:\n",
      "\u001b[0;31mValueError\u001b[0m: Input 0 of layer \"conv1d_378\" is incompatible with the layer: expected min_ndim=3, found ndim=2. Full shape received: (None, 50)"
     ]
    }
   ],
   "source": [
    "model = create_model()\n",
    "history = model.fit(X_train, y_train, epochs=50, validation_split=0.3)\n",
    "model.summary()\n",
    "test_loss, test_accuracy = model.evaluate(X_test, y_test)\n",
    "print(f\"Test accuracy: {test_accuracy}\")"
   ]
  },
  {
   "cell_type": "code",
   "execution_count": 672,
   "metadata": {},
   "outputs": [
    {
     "name": "stdout",
     "output_type": "stream",
     "text": [
      "(1592, 1)\n"
     ]
    }
   ],
   "source": [
    "print(y_train.shape)"
   ]
  },
  {
   "cell_type": "code",
   "execution_count": null,
   "metadata": {},
   "outputs": [
    {
     "data": {
      "image/png": "[encoded data removed]",
      "text/plain": [
       "<Figure size 640x480 with 1 Axes>"
      ]
     },
     "metadata": {},
     "output_type": "display_data"
    }
   ],
   "source": [
    "def plot_history(history):\n",
    "  plt.figure()\n",
    "  plt.xlabel('Epoch')\n",
    "  plt.ylabel('Mean Abs Error')\n",
    "  plt.plot(history.epoch, np.array(history.history['mae']), \n",
    "           label='Train')\n",
    "  plt.plot(history.epoch, np.array(history.history['val_mae']),\n",
    "           label = 'Val')\n",
    "  plt.legend()\n",
    "  plt.ylim([50,max(history.history['val_mae'])])\n",
    "plot_history(history)"
   ]
  },
  {
   "cell_type": "code",
   "execution_count": null,
   "metadata": {},
   "outputs": [
    {
     "data": {
      "text/html": [
       "<pre style=\"white-space:pre;overflow-x:auto;line-height:normal;font-family:Menlo,'DejaVu Sans Mono',consolas,'Courier New',monospace\"><span style=\"font-weight: bold\">Model: \"sequential_108\"</span>\n",
       "</pre>\n"
      ],
      "text/plain": [
       "\u001b[1mModel: \"sequential_108\"\u001b[0m\n"
      ]
     },
     "metadata": {},
     "output_type": "display_data"
    },
    {
     "data": {
      "text/html": [
       "<pre style=\"white-space:pre;overflow-x:auto;line-height:normal;font-family:Menlo,'DejaVu Sans Mono',consolas,'Courier New',monospace\">┏━━━━━━━━━━━━━━━━━━━━━━━━━━━━━━━━━┳━━━━━━━━━━━━━━━━━━━━━━━━┳━━━━━━━━━━━━━━━┓\n",
       "┃<span style=\"font-weight: bold\"> Layer (type)                    </span>┃<span style=\"font-weight: bold\"> Output Shape           </span>┃<span style=\"font-weight: bold\">       Param # </span>┃\n",
       "┡━━━━━━━━━━━━━━━━━━━━━━━━━━━━━━━━━╇━━━━━━━━━━━━━━━━━━━━━━━━╇━━━━━━━━━━━━━━━┩\n",
       "│ conv1d_320 (<span style=\"color: #0087ff; text-decoration-color: #0087ff\">Conv1D</span>)             │ (<span style=\"color: #00d7ff; text-decoration-color: #00d7ff\">None</span>, <span style=\"color: #00af00; text-decoration-color: #00af00\">25</span>, <span style=\"color: #00af00; text-decoration-color: #00af00\">1</span>)          │             <span style=\"color: #00af00; text-decoration-color: #00af00\">2</span> │\n",
       "├─────────────────────────────────┼────────────────────────┼───────────────┤\n",
       "│ conv1d_321 (<span style=\"color: #0087ff; text-decoration-color: #0087ff\">Conv1D</span>)             │ (<span style=\"color: #00d7ff; text-decoration-color: #00d7ff\">None</span>, <span style=\"color: #00af00; text-decoration-color: #00af00\">5</span>, <span style=\"color: #00af00; text-decoration-color: #00af00\">1</span>)           │             <span style=\"color: #00af00; text-decoration-color: #00af00\">5</span> │\n",
       "└─────────────────────────────────┴────────────────────────┴───────────────┘\n",
       "</pre>\n"
      ],
      "text/plain": [
       "┏━━━━━━━━━━━━━━━━━━━━━━━━━━━━━━━━━┳━━━━━━━━━━━━━━━━━━━━━━━━┳━━━━━━━━━━━━━━━┓\n",
       "┃\u001b[1m \u001b[0m\u001b[1mLayer (type)                   \u001b[0m\u001b[1m \u001b[0m┃\u001b[1m \u001b[0m\u001b[1mOutput Shape          \u001b[0m\u001b[1m \u001b[0m┃\u001b[1m \u001b[0m\u001b[1m      Param #\u001b[0m\u001b[1m \u001b[0m┃\n",
       "┡━━━━━━━━━━━━━━━━━━━━━━━━━━━━━━━━━╇━━━━━━━━━━━━━━━━━━━━━━━━╇━━━━━━━━━━━━━━━┩\n",
       "│ conv1d_320 (\u001b[38;5;33mConv1D\u001b[0m)             │ (\u001b[38;5;45mNone\u001b[0m, \u001b[38;5;34m25\u001b[0m, \u001b[38;5;34m1\u001b[0m)          │             \u001b[38;5;34m2\u001b[0m │\n",
       "├─────────────────────────────────┼────────────────────────┼───────────────┤\n",
       "│ conv1d_321 (\u001b[38;5;33mConv1D\u001b[0m)             │ (\u001b[38;5;45mNone\u001b[0m, \u001b[38;5;34m5\u001b[0m, \u001b[38;5;34m1\u001b[0m)           │             \u001b[38;5;34m5\u001b[0m │\n",
       "└─────────────────────────────────┴────────────────────────┴───────────────┘\n"
      ]
     },
     "metadata": {},
     "output_type": "display_data"
    },
    {
     "data": {
      "text/html": [
       "<pre style=\"white-space:pre;overflow-x:auto;line-height:normal;font-family:Menlo,'DejaVu Sans Mono',consolas,'Courier New',monospace\"><span style=\"font-weight: bold\"> Total params: </span><span style=\"color: #00af00; text-decoration-color: #00af00\">16</span> (68.00 B)\n",
       "</pre>\n"
      ],
      "text/plain": [
       "\u001b[1m Total params: \u001b[0m\u001b[38;5;34m16\u001b[0m (68.00 B)\n"
      ]
     },
     "metadata": {},
     "output_type": "display_data"
    },
    {
     "data": {
      "text/html": [
       "<pre style=\"white-space:pre;overflow-x:auto;line-height:normal;font-family:Menlo,'DejaVu Sans Mono',consolas,'Courier New',monospace\"><span style=\"font-weight: bold\"> Trainable params: </span><span style=\"color: #00af00; text-decoration-color: #00af00\">7</span> (28.00 B)\n",
       "</pre>\n"
      ],
      "text/plain": [
       "\u001b[1m Trainable params: \u001b[0m\u001b[38;5;34m7\u001b[0m (28.00 B)\n"
      ]
     },
     "metadata": {},
     "output_type": "display_data"
    },
    {
     "data": {
      "text/html": [
       "<pre style=\"white-space:pre;overflow-x:auto;line-height:normal;font-family:Menlo,'DejaVu Sans Mono',consolas,'Courier New',monospace\"><span style=\"font-weight: bold\"> Non-trainable params: </span><span style=\"color: #00af00; text-decoration-color: #00af00\">0</span> (0.00 B)\n",
       "</pre>\n"
      ],
      "text/plain": [
       "\u001b[1m Non-trainable params: \u001b[0m\u001b[38;5;34m0\u001b[0m (0.00 B)\n"
      ]
     },
     "metadata": {},
     "output_type": "display_data"
    },
    {
     "data": {
      "text/html": [
       "<pre style=\"white-space:pre;overflow-x:auto;line-height:normal;font-family:Menlo,'DejaVu Sans Mono',consolas,'Courier New',monospace\"><span style=\"font-weight: bold\"> Optimizer params: </span><span style=\"color: #00af00; text-decoration-color: #00af00\">9</span> (40.00 B)\n",
       "</pre>\n"
      ],
      "text/plain": [
       "\u001b[1m Optimizer params: \u001b[0m\u001b[38;5;34m9\u001b[0m (40.00 B)\n"
      ]
     },
     "metadata": {},
     "output_type": "display_data"
    }
   ],
   "source": [
    "model.summary()"
   ]
  },
  {
   "cell_type": "code",
   "execution_count": null,
   "metadata": {},
   "outputs": [
    {
     "name": "stdout",
     "output_type": "stream",
     "text": [
      "\u001b[1m42/42\u001b[0m \u001b[32m━━━━━━━━━━━━━━━━━━━━\u001b[0m\u001b[37m\u001b[0m \u001b[1m0s\u001b[0m 699us/step\n",
      "[88. 88. 88. ... 88. 88. 88.]\n"
     ]
    },
    {
     "name": "stderr",
     "output_type": "stream",
     "text": [
      "/Users/cslinxs/Library/Python/3.9/lib/python/site-packages/matplotlib/cbook.py:1762: FutureWarning: Calling float on a single element Series is deprecated and will raise a TypeError in the future. Use float(ser.iloc[0]) instead\n",
      "  return math.isfinite(val)\n"
     ]
    },
    {
     "data": {
      "text/plain": [
       "Text(223.7, 81.55, 'r2 -4.45')"
      ]
     },
     "execution_count": 488,
     "metadata": {},
     "output_type": "execute_result"
    },
    {
     "data": {
      "image/png": "[encoded data removed]",
      "text/plain": [
       "<Figure size 640x480 with 1 Axes>"
      ]
     },
     "metadata": {},
     "output_type": "display_data"
    }
   ],
   "source": [
    "# Standardize the feature data using the same scaler used for the training data\n",
    "X1 = get_person_split_data(people_with_out_hypertenstion)[0]\n",
    "y1 = get_person_split_data(people_with_out_hypertenstion)[1]\n",
    "\n",
    "X_new = scaler.transform(X1)\n",
    "\n",
    "# Reshape the input data for 1D CNN\n",
    "X_new = np.expand_dims(X_new, axis=2)\n",
    "\n",
    "# Predict the probabilities for each genre\n",
    "predictions = model.predict(X_new)\n",
    "\n",
    "# Get the genre index with the highest probability for each sample\n",
    "predicted_indices = np.argmax(predictions, axis=1)\n",
    "\n",
    "# Decode the genre indices to genre names\n",
    "predicted_genres = label_encoder.inverse_transform(predicted_indices)\n",
    "\n",
    "# Add the predicted genres to the new dataset\n",
    "print(predicted_genres)\n",
    "plt.plot(y1,y1, color=\"green\")\n",
    "plt.scatter(y1, predicted_genres,  alpha=0.3 , color=\"red\")\n",
    "\n",
    "# plt.title(f\"Trained on people WITH hyptenstion, Testing WITH hypertension\")\n",
    "plt.title(f\"Trained on {keys_for_grouping[current_activity_key_used]} people, Testing non hypertension\")#, test_accuracy: {round(test_accuracy*100,2)}%\")\n",
    "\n",
    "plt.xlabel(\"Tested SBP value\")\n",
    "plt.ylabel(\"Predicted SBP value\")\n",
    "\n",
    "xmin, xmax, ymin, ymax = plt.axis()\n",
    "plt.text(xmax+0.25, ymin+(ymax-ymin)*0.5,s=f\"Test accuracy: {round(test_accuracy*100,2)}%\", fontsize=12)\n",
    "\n",
    "plt.text(xmax+0.25, ymin+(ymax-ymin)*0.4,s=f\"MAE {round(mean_absolute_error(y1, predicted_genres),2)}\", fontsize=12)\n",
    "plt.text(xmax+0.25, ymin+(ymax-ymin)*0.2, s= f\"RMS {round(root_mean_squared_error(y1, predicted_genres),2)}\", fontsize=12)\n",
    "plt.text(xmax+0.25, ymin, s= f\"r2 {round(r2_score(y1, predicted_genres),2)}\", fontsize=12)"
   ]
  },
  {
   "cell_type": "code",
   "execution_count": null,
   "metadata": {},
   "outputs": [],
   "source": [
    "# people_with_out_hypertenstion = get_people_with_hypertenstion()[1]\n",
    "\n",
    "# # for now I will only test on people with hyptertension\n",
    "# X1 = get_person_split_data(people_with_out_hypertenstion)[0]\n",
    "# y1 = get_person_split_data(people_with_out_hypertenstion)[1]\n"
   ]
  },
  {
   "cell_type": "code",
   "execution_count": null,
   "metadata": {},
   "outputs": [],
   "source": [
    "# I want a list\n",
    "# of ppl with both hypertension and non\n",
    "# then i want a list of the combo.\n",
    "# maybe i can remove some of the hyper tensiton both and non bottom ato make a new list!!!"
   ]
  },
  {
   "cell_type": "code",
   "execution_count": null,
   "metadata": {},
   "outputs": [],
   "source": []
  },
  {
   "cell_type": "code",
   "execution_count": null,
   "metadata": {},
   "outputs": [],
   "source": []
  }
 ],
 "metadata": {
  "kernelspec": {
   "display_name": "Python 3",
   "language": "python",
   "name": "python3"
  },
  "language_info": {
   "codemirror_mode": {
    "name": "ipython",
    "version": 3
   },
   "file_extension": ".py",
   "mimetype": "text/x-python",
   "name": "python",
   "nbconvert_exporter": "python",
   "pygments_lexer": "ipython3",
   "version": "3.9.6"
  }
 },
 "nbformat": 4,
 "nbformat_minor": 2
}
